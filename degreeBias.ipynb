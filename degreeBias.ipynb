{
 "cells": [
  {
   "cell_type": "markdown",
   "id": "1617ed97",
   "metadata": {},
   "source": [
    "<h1>Node Degree Bias</h1>\n",
    "\n",
    "<p>\n",
    "The evaluation phase of graph machine learning (ML:) requires negative sampling to measure the generalization performance of the edge-prediction model. A common approach  for obtaining negative examples samples the source and destination nodes from a uniform distribution. However, biomedical KGs are generally characterized by a non-uniform node-degree distribution, implying that edges sampled using the uniform sampling approach produce a graph with a degree distribution that can differ substantially from that of the existing edges. </p>\n",
    "<p>To demonstrate this effect, we start with a simple machine learning task that classifies PPAs or SLI interactions using only features derived from node degrees, without taking any other graph features into account.</p>"
   ]
  },
  {
   "cell_type": "code",
   "execution_count": 1,
   "id": "50e07ed0",
   "metadata": {},
   "outputs": [],
   "source": [
    "from grape.datasets.kghub import SLDB\n",
    "from grape.datasets.string import HomoSapiens\n",
    "\n",
    "from grape.embedders import FirstOrderLINEEnsmallen, SecondOrderLINEEnsmallen\n",
    "from grape.embedders import DeepWalkGloVeEnsmallen, DeepWalkCBOWEnsmallen, DeepWalkSkipGramEnsmallen\n",
    "from grape.embedders import WalkletsGloVeEnsmallen, WalkletsCBOWEnsmallen, WalkletsSkipGramEnsmallen\n",
    "from grape.embedders import HOPEEnsmallen\n",
    "\n",
    "from grape.edge_prediction import edge_prediction_evaluation\n",
    "from grape.edge_prediction import PerceptronEdgePrediction\n",
    "import pandas as pd\n",
    "import os\n",
    "from tqdm.auto import tqdm\n",
    "from IPython.display import HTML\n",
    "import warnings\n",
    "\n",
    "warnings.filterwarnings('ignore')"
   ]
  },
  {
   "cell_type": "markdown",
   "id": "84ab4a24",
   "metadata": {},
   "source": [
    "<h3>Load and process the graphs</h3>"
   ]
  },
  {
   "cell_type": "code",
   "execution_count": 2,
   "id": "67dbffd0",
   "metadata": {},
   "outputs": [],
   "source": [
    "sli_graph = SLDB()\n",
    "string_graph = HomoSapiens()\n",
    "graph_root = os.environ.get(\"GRAPH_CACHE_DIR\", \"./graphs\")\n",
    "\n",
    "path = f\"{graph_root}/string/HomoSapiens/links.v11.5/9606.protein.info.v11.5.txt\"\n",
    "data = pd.read_csv(path, sep=\"\\t\")\n",
    "remapping_string = dict(zip(data[data.columns[0]], data[data.columns[1]]))\n",
    "string_graph = string_graph\\\n",
    "    .remove_node_types()\\\n",
    "    .filter_from_names(min_edge_weight=700)\\\n",
    "    .remove_edge_weights()\\\n",
    "    .remap_from_node_names_map(remapping_string)\\\n",
    "    .set_all_node_types(\"Gene\")\\\n",
    "    .set_all_edge_types(\"PPI\")\\\n",
    "    .remove_disconnected_nodes()\n",
    "path = f\"{graph_root}/kghub/SLDB/20220522/sldb/merged-kg_nodes.tsv\"\n",
    "data = pd.read_csv(path, sep=\"\\t\")\n",
    "remapping_sli = dict(zip(data[data.columns[0]], data[data.columns[2]]))"
   ]
  },
  {
   "cell_type": "markdown",
   "id": "e97b72fd",
   "metadata": {},
   "source": [
    "<h3>Restrict the SLI graph to the largest connected component</h3>"
   ]
  },
  {
   "cell_type": "code",
   "execution_count": 3,
   "id": "794ff7d8",
   "metadata": {},
   "outputs": [],
   "source": [
    "sli_graph = sli_graph.remap_from_node_names_map(remapping_sli).set_all_node_types(\"Gene\").set_all_edge_types(\"SLI\")\n",
    "composite_graph = (sli_graph | string_graph).remove_components(top_k_components=1)\n",
    "\n",
    "subgraph = composite_graph.filter_from_names(\n",
    "    edge_type_names_to_keep=[\"SLI\"]\n",
    ")"
   ]
  },
  {
   "cell_type": "markdown",
   "id": "9471c9b8",
   "metadata": {},
   "source": [
    "<h3>Constants</h3>\n",
    "<p>The results presented here are typical for results obtained with a wide range of parameter settings.\n",
    "The following settings can be changed here for the entire workbook.</p>"
   ]
  },
  {
   "cell_type": "code",
   "execution_count": 4,
   "id": "cb1daba8",
   "metadata": {},
   "outputs": [],
   "source": [
    "# Set smoke test to True for testing:\n",
    "SMOKE_TEST = False\n",
    "NUMBER_OF_HOLDOUTS = 10\n",
    "VALIDATION_UNBALANCE_RATES = (1.0, )\n",
    "TRAIN_SIZES = (0.75,)"
   ]
  },
  {
   "cell_type": "markdown",
   "id": "37900ecf",
   "metadata": {},
   "source": [
    "<h2>Analyzing Perceptron Prediction of SLIs based only on node degree data</h2>\n",
    "<p>The following code tests the performance of predicting SLI edges based only on edge data (no graph machine learning is used; instead the following analysis uses various approaches to creating features based on the the node degrees of each edge (u,v), with the degree of node u being d(u)</p>\n",
    "<ol>\n",
    "    <li>Degree: The perceptron is given a two dimensional vector with [d(u), d(v)]</li>\n",
    "    <li>AdamicAdar index (See <a href=\"https://en.wikipedia.org/wiki/Adamic%E2%80%93Adar_index\">Wikipedia</a>).</li>\n",
    "    <li>JaccardCoefficient: the perceptron is given a single scalar equivalent to the count of shared neighbors divided by the count of the union of all neighbors.</li>\n",
    "     <li>ResourceAllocationIndex: See <a href=\"https://arxiv.org/pdf/0901.0553.pdf\">Zhou et al, 2009</a>.</li> \n",
    "     <li>PreferentialAttachment: the perceptron is given a single scalar equal to d(u)*d(v)</li>"
   ]
  },
  {
   "cell_type": "code",
   "execution_count": 5,
   "id": "7d91d21f",
   "metadata": {},
   "outputs": [
    {
     "data": {
      "application/vnd.jupyter.widget-view+json": {
       "model_id": "",
       "version_major": 2,
       "version_minor": 0
      },
      "text/plain": [
       "Validation use scale free:   0%|          | 0/2 [00:00<?, ?it/s]"
      ]
     },
     "metadata": {},
     "output_type": "display_data"
    }
   ],
   "source": [
    "results = []\n",
    "\n",
    "fresults = []\n",
    "train_size = 0.75\n",
    "for validation_use_scale_free in tqdm(\n",
    "    (True, False),\n",
    "    desc=\"Validation use scale free\",\n",
    "    leave=False\n",
    "):\n",
    "    results.append(edge_prediction_evaluation(\n",
    "        smoke_test=SMOKE_TEST,\n",
    "        holdouts_kwargs=dict(\n",
    "            train_size=train_size,\n",
    "            edge_types=[\"SLI\"],\n",
    "        ),\n",
    "        evaluation_schema=\"Connected Monte Carlo\",\n",
    "        graphs=composite_graph,\n",
    "        models=[\n",
    "            PerceptronEdgePrediction(\n",
    "                edge_features=edge_feature,\n",
    "                number_of_epochs=1000,\n",
    "                number_of_edges_per_mini_batch=16,\n",
    "                learning_rate=0.001,\n",
    "                use_scale_free_distribution=use_scale_free_distribution\n",
    "            )\n",
    "            for edge_feature in (\"Degree\",\"AdamicAdar\",\"JaccardCoefficient\",\"ResourceAllocationIndex\",\"PreferentialAttachment\") \n",
    "            for use_scale_free_distribution in (True, False)\n",
    "        ],\n",
    "        #number_of_slurm_nodes=NUMBER_OF_HOLDOUTS,\n",
    "        enable_cache=True,\n",
    "        number_of_holdouts=NUMBER_OF_HOLDOUTS,\n",
    "        use_scale_free_distribution=validation_use_scale_free,\n",
    "        validation_unbalance_rates=VALIDATION_UNBALANCE_RATES,\n",
    "        subgraph_of_interest=subgraph,\n",
    "        use_subgraph_as_support=False\n",
    "    ))\n",
    "results = pd.concat(results)\n",
    "results.to_csv(\"degree_only_perceptron.tsv\",sep=\"\\t\")"
   ]
  },
  {
   "cell_type": "markdown",
   "id": "081ca572",
   "metadata": {},
   "source": [
    "<h2>Preferential attachment</h2>\n",
    "<p>The mechanism of\n",
    "preferential attachment can be used to generate evolving\n",
    "scale-free networks (i.e., networks with power-law degree\n",
    "distributions), where the probability that a new link is\n",
    "connected to the node x is proportional to k(x). A similariytmatrix can be defined as s<sub>uv</sub> = d(u) × d(v). </p>\n",
    "<p>It was described in 2011 that node degree alone can be used for many predictions in bioinformatics (<a href=\"https://pubmed.ncbi.nlm.nih.gov/21364756/\">Gillis J, Pavlidis P. The impact of multifunctional genes on \"guilt by association\" analysis. PLoS One. 2011 Feb 18;6(2):e17258.</a>). In the following cell, we show that sampling the SLI graph in three different ways leads to substantially different distributions, which in principle yield features that can be leveraged for classification. However, unless the biological signal one is looking for is node degree, it is likely that the classifier is not doing what the user expected.</p> "
   ]
  },
  {
   "cell_type": "code",
   "execution_count": null,
   "id": "2c649dc4",
   "metadata": {},
   "outputs": [],
   "source": [
    "import matplotlib.pyplot as plt\n",
    "\n",
    "negative = subgraph.sample_negative_graph(\n",
    "    number_of_negative_samples=subgraph.get_number_of_edges() * 100,\n",
    "    use_scale_free_distribution=False,\n",
    ")\n",
    "\n",
    "negative_scale_free = subgraph.sample_negative_graph(\n",
    "    number_of_negative_samples=subgraph.get_number_of_edges() * 100,\n",
    "    use_scale_free_distribution=True,\n",
    ")\n",
    "\n",
    "\n",
    "fig, axes = plt.subplots(dpi=400)\n",
    "\n",
    "plt.hist([\n",
    "    subgraph.get_preferential_attachment_scores(),\n",
    "    negative.get_preferential_attachment_scores(),\n",
    "    negative_scale_free.get_preferential_attachment_scores()\n",
    "],\n",
    "    log=True, bins=40, label=[\"SLI\", \"UNS\", \"DANS\"])\n",
    "plt.legend()\n",
    "#plt.xlabel(\"Normalized preferential attachment\")\n",
    "#plt.ylabel(\"Count (log scale)\")\n",
    "plt.xticks(fontsize=18)\n",
    "plt.yticks(fontsize=24)\n",
    "plt.savefig(\"norm_pref_attach.pdf\", format=\"pdf\", bbox_inches=\"tight\")"
   ]
  },
  {
   "cell_type": "markdown",
   "id": "1f55c2fa",
   "metadata": {},
   "source": [
    "<h2>Plotting results of node-degree based classification</h2>\n",
    "<p>We then evaluated a 2-layer neural network (perceptron) using five different feature generation approaches (see below).</p>"
   ]
  },
  {
   "cell_type": "code",
   "execution_count": null,
   "id": "59514825",
   "metadata": {},
   "outputs": [],
   "source": [
    "import numpy as np\n",
    "import pandas as pd\n",
    "from glob import glob\n",
    "import json\n",
    "\n",
    "\n",
    "df = results.copy()\n",
    "\n",
    "#df = df[df.evaluation_mode == \"test\"]\n",
    "\n",
    "df[\"train_size\"] = [\n",
    "    float(json.loads(holdouts_kwargs)[\"train_size\"])\n",
    "    for holdouts_kwargs in df.holdouts_kwargs\n",
    "]\n",
    "\n",
    "df[\"features_names\"] = [\n",
    "    json.loads(edge_feature.replace(\"'\", \"\\\"\"))[0] if pd.notna(edge_feature) else feature_name\n",
    "    for feature_name, edge_feature in zip(\n",
    "        df.features_names,\n",
    "        df[('model_parameters', 'edge_features')]\n",
    "    )\n",
    "]\n",
    "\n",
    "df[\"use_scale_free_distribution\"] = [\n",
    "    \"DANS\"\n",
    "    if use_scale_free_distribution\n",
    "    else \"UNS\"\n",
    "    for use_scale_free_distribution in df.use_scale_free_distribution\n",
    "]\n",
    "\n",
    "if False:\n",
    "    df = df[\n",
    "        [\n",
    "            pd.isna(a) or a == b\n",
    "            for a, b in zip(\n",
    "                #df[('features_parameters', 'use_scale_free_distribution')],\n",
    "                df[('model_parameters', 'use_scale_free_distribution')],\n",
    "            )\n",
    "        ]\n",
    "    ]\n",
    "\n",
    "df = df[df[\"validation_unbalance_rate\"] == 1]\n",
    "df = df[df[\"train_size\"] == 0.75]\n",
    "\n",
    "# Features that we do not want to show\n",
    "allow_list = [\n",
    "    \"degree\",\n",
    "    #\"resource\"\n",
    "]\n",
    "\n",
    "df[\"features_names\"] = [\n",
    "    \"{feature} {training} (ANN)\".format(\n",
    "        training=(\"DANS\"\n",
    "        if b\n",
    "        else \"UNS\"),\n",
    "        feature=feature\n",
    "    )\n",
    "    for b, feature in zip(\n",
    "        #df[('features_parameters', 'use_scale_free_distribution')],\n",
    "        df[('model_parameters', 'use_scale_free_distribution')],\n",
    "        df[\"features_names\"]\n",
    "    )\n",
    "]\n",
    "\n",
    "mask = np.array([\n",
    "    any(target in feature.lower() for target in allow_list)\n",
    "    for feature in df[\"features_names\"]\n",
    "])\n",
    "\n",
    "df = df[mask]\n",
    "\n",
    "df[\"features_names\"] = [\n",
    "    feature.replace(\"ResourceAllocationIndex\", \"RAI\").replace(\"Degree\", \"\")\n",
    "    for feature in df[\"features_names\"]\n",
    "]\n",
    "\n",
    "df[\"validation\"] = df[\"use_scale_free_distribution\"]"
   ]
  },
  {
   "cell_type": "code",
   "execution_count": null,
   "id": "3e73a011",
   "metadata": {},
   "outputs": [],
   "source": [
    "df = results.copy()\n",
    "df[\"validation\"] = df[\"use_scale_free_distribution\"].map({True: 'DANS', False: 'UNS'})\n",
    "df[\"edge_features\"] = df[(\"model_parameters\", \"edge_features\")]\n",
    "perceptron_dans_df = df[df[('model_parameters', 'use_scale_free_distribution')]==True]\n",
    "perceptron_uns_df = df[df[('model_parameters', 'use_scale_free_distribution')]==False]\n",
    "perceptron_dans_df['validation'] = perceptron_dans_df['validation'].str.replace('DANS','DANS (*)')\n",
    "perceptron_dans_df['validation'] = perceptron_dans_df['validation'].str.replace('UNS','UNS (*)')\n",
    "perceptron_df = pd.concat([perceptron_dans_df, perceptron_uns_df])"
   ]
  },
  {
   "cell_type": "markdown",
   "id": "ed8ae1d6",
   "metadata": {},
   "source": [
    "<h2>Plotting</h2>\n",
    "<p>The plotline library allows us to use most ggplot commands. Here, we plot results for Degree, AdamicAdar, JaccardCoefficient, ResourceAllocationIndex, and PreferentialAttachment.</p>"
   ]
  },
  {
   "cell_type": "code",
   "execution_count": null,
   "id": "ae7ffd3a",
   "metadata": {},
   "outputs": [],
   "source": [
    "from plotnine import *"
   ]
  },
  {
   "cell_type": "code",
   "execution_count": null,
   "id": "332a227a",
   "metadata": {},
   "outputs": [],
   "source": [
    "def get_ggplot(df, edge_feature, lower_ylim=0):\n",
    "    df_filtered = df[perceptron_df[\"edge_features\"]==edge_feature]\n",
    "    p = ggplot(data=df_filtered, mapping=aes(y = \"matthews_correlation_coefficient\", \n",
    "           x = \"validation\",  fill=\"evaluation_mode\"))  + geom_boxplot()  + \\\n",
    "    ylim(lower_ylim, 1) + \\\n",
    "    theme_bw() +  \\\n",
    "    labs(y= \"MCC\") + \\\n",
    "    theme(axis_text = element_text(size=18),\n",
    "         axis_title_x= element_blank(),\n",
    "          axis_title_y= element_text(size=24),\n",
    "         legend_title = element_blank(),\n",
    "         legend_text = element_text(size=24, hjust=1),\n",
    "         legend_position = (0.35, 0.9))\n",
    "    return p"
   ]
  },
  {
   "cell_type": "markdown",
   "id": "a394f015",
   "metadata": {},
   "source": [
    "<h3>Feature Type: Degree</h3>"
   ]
  },
  {
   "cell_type": "code",
   "execution_count": null,
   "id": "b998a0a8",
   "metadata": {},
   "outputs": [],
   "source": [
    "p = get_ggplot(perceptron_df, \"['Degree']\")\n",
    "ggsave(p, \"degree_only_degree.pdf\")\n",
    "p"
   ]
  },
  {
   "cell_type": "markdown",
   "id": "42cb9c7f",
   "metadata": {},
   "source": [
    "<p>Legend: Matthews correlation coefficient (MCC) analysis for classification of SLDB/STRING edges. The relative performance of DANS and UNS are compaired in test and training. The asterisk (*) denotes that DANS was also used in choosing negative samples for the Perceptron; if no asterisk is shown, then UNS was used for choosing negative samples for the Perceptron.</p>"
   ]
  },
  {
   "cell_type": "markdown",
   "id": "3158403a",
   "metadata": {},
   "source": [
    "<h3>Feature Type: AdamicAdar</h3>"
   ]
  },
  {
   "cell_type": "code",
   "execution_count": null,
   "id": "672e7a68",
   "metadata": {},
   "outputs": [],
   "source": [
    "p = get_ggplot(perceptron_df, \"['AdamicAdar']\")\n",
    "ggsave(p, \"degree_only_adamic_adar.pdf\")\n",
    "p"
   ]
  },
  {
   "cell_type": "markdown",
   "id": "72ac5349",
   "metadata": {},
   "source": [
    "<h3>Feature Type: JaccardCoefficient</h3>"
   ]
  },
  {
   "cell_type": "code",
   "execution_count": null,
   "id": "65b17991",
   "metadata": {},
   "outputs": [],
   "source": [
    "p = get_ggplot(perceptron_df, \"['JaccardCoefficient']\")\n",
    "ggsave(p, \"degree_only_jaccard.pdf\")\n",
    "p "
   ]
  },
  {
   "cell_type": "markdown",
   "id": "6360cb60",
   "metadata": {},
   "source": [
    "<h3>Feature Type: ResourceAllocationIndex</h3>"
   ]
  },
  {
   "cell_type": "code",
   "execution_count": null,
   "id": "291a5443",
   "metadata": {},
   "outputs": [],
   "source": [
    "p = get_ggplot(perceptron_df, \"['ResourceAllocationIndex']\", lower_ylim=-1)\n",
    "ggsave(p, \"degree_only_RAI.pdf\")\n",
    "p"
   ]
  },
  {
   "cell_type": "markdown",
   "id": "0159bad7",
   "metadata": {},
   "source": [
    "<h3>Feature Type: PreferentialAttachment</h3>"
   ]
  },
  {
   "cell_type": "code",
   "execution_count": null,
   "id": "029ea1c9",
   "metadata": {},
   "outputs": [],
   "source": [
    "p = get_ggplot(perceptron_df,\"['PreferentialAttachment']\", lower_ylim=-1)\n",
    "ggsave(p, \"degree_only_pref_attach.pdf\")\n",
    "p"
   ]
  },
  {
   "cell_type": "code",
   "execution_count": null,
   "id": "c5ec6807",
   "metadata": {},
   "outputs": [],
   "source": []
  }
 ],
 "metadata": {
  "kernelspec": {
   "display_name": "nevenv",
   "language": "python",
   "name": "nevenv"
  },
  "language_info": {
   "codemirror_mode": {
    "name": "ipython",
    "version": 3
   },
   "file_extension": ".py",
   "mimetype": "text/x-python",
   "name": "python",
   "nbconvert_exporter": "python",
   "pygments_lexer": "ipython3",
   "version": "3.10.9"
  }
 },
 "nbformat": 4,
 "nbformat_minor": 5
}
