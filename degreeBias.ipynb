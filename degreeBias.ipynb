{
 "cells": [
  {
   "cell_type": "markdown",
   "id": "1617ed97",
   "metadata": {},
   "source": [
    "<h1>Node Degree Bias</h1>\n",
    "\n",
    "<p>\n",
    "The evaluation phase of graph machine learning (ML:) requires negative sampling to measure the generalization performance of the edge-prediction model. A common approach  for obtaining negative examples samples the source and destination nodes from a uniform distribution. However, biomedical KGs are generally characterized by a non-uniform node-degree distribution, implying that edges sampled using the uniform sampling approach produce a graph with a degree distribution that can differ substantially from that of the existing edges. </p>\n",
    "<p>To demonstrate this effect, we start with a simple machine learning task that classifies SLI interactions using only features derived from node degrees, without taking any other graph features into account.</p>"
   ]
  },
  {
   "cell_type": "code",
   "execution_count": 1,
   "id": "50e07ed0",
   "metadata": {},
   "outputs": [],
   "source": [
    "from grape.datasets.kghub import SLDB\n",
    "from grape.datasets.string import HomoSapiens\n",
    "from grape.embedders import FirstOrderLINEEnsmallen, SecondOrderLINEEnsmallen\n",
    "from grape.embedders import DeepWalkGloVeEnsmallen, DeepWalkCBOWEnsmallen, DeepWalkSkipGramEnsmallen\n",
    "from grape.embedders import WalkletsGloVeEnsmallen, WalkletsCBOWEnsmallen, WalkletsSkipGramEnsmallen\n",
    "from grape.embedders import HOPEEnsmallen\n",
    "from grape.edge_prediction import edge_prediction_evaluation\n",
    "from grape.edge_prediction import PerceptronEdgePrediction\n",
    "import pandas as pd\n",
    "import numpy as np\n",
    "import os\n",
    "from tqdm.auto import tqdm\n",
    "from IPython.display import HTML\n",
    "import warnings\n",
    "\n",
    "warnings.filterwarnings('ignore')"
   ]
  },
  {
   "cell_type": "markdown",
   "id": "84ab4a24",
   "metadata": {},
   "source": [
    "<h3>Load and process the graph</h3>"
   ]
  },
  {
   "cell_type": "code",
   "execution_count": 2,
   "id": "67dbffd0",
   "metadata": {},
   "outputs": [
    {
     "data": {
      "application/vnd.jupyter.widget-view+json": {
       "model_id": "",
       "version_major": 2,
       "version_minor": 0
      },
      "text/plain": [
       "Downloading to graphs/kghub/SLD...20522/sldb.tar.gz:   0%|                                           | 0.00/53…"
      ]
     },
     "metadata": {},
     "output_type": "display_data"
    },
    {
     "data": {
      "application/vnd.jupyter.widget-view+json": {
       "model_id": "",
       "version_major": 2,
       "version_minor": 0
      },
      "text/plain": [
       "Downloading files:   0%|                                                                                    | …"
      ]
     },
     "metadata": {},
     "output_type": "display_data"
    },
    {
     "data": {
      "application/vnd.jupyter.widget-view+json": {
       "model_id": "",
       "version_major": 2,
       "version_minor": 0
      },
      "text/plain": [
       "Downloading to graphs/string/Ho...inks.v11.5.txt.gz:   0%|                                           | 0.00/72…"
      ]
     },
     "metadata": {},
     "output_type": "display_data"
    },
    {
     "data": {
      "application/vnd.jupyter.widget-view+json": {
       "model_id": "",
       "version_major": 2,
       "version_minor": 0
      },
      "text/plain": [
       "Downloading to graphs/string/Ho...erms.v11.5.txt.gz:   0%|                                           | 0.00/38…"
      ]
     },
     "metadata": {},
     "output_type": "display_data"
    },
    {
     "data": {
      "application/vnd.jupyter.widget-view+json": {
       "model_id": "",
       "version_major": 2,
       "version_minor": 0
      },
      "text/plain": [
       "Downloading to graphs/string/Ho...info.v11.5.txt.gz:   0%|                                           | 0.00/1.…"
      ]
     },
     "metadata": {},
     "output_type": "display_data"
    },
    {
     "data": {
      "application/vnd.jupyter.widget-view+json": {
       "model_id": "",
       "version_major": 2,
       "version_minor": 0
      },
      "text/plain": [
       "Downloading to graphs/string/Ho...ences.v11.5.fa.gz:   0%|                                           | 0.00/6.…"
      ]
     },
     "metadata": {},
     "output_type": "display_data"
    }
   ],
   "source": [
    "sli_graph = SLDB()\n",
    "string_graph = HomoSapiens()\n",
    "graph_root = os.environ.get(\"GRAPH_CACHE_DIR\", \"./graphs\")\n",
    "\n",
    "path = f\"{graph_root}/string/HomoSapiens/links.v11.5/9606.protein.info.v11.5.txt\"\n",
    "data = pd.read_csv(path, sep=\"\\t\")\n",
    "remapping_string = dict(zip(data[data.columns[0]], data[data.columns[1]]))\n",
    "string_graph = string_graph\\\n",
    "    .remove_node_types()\\\n",
    "    .filter_from_names(min_edge_weight=700)\\\n",
    "    .remove_edge_weights()\\\n",
    "    .remap_from_node_names_map(remapping_string)\\\n",
    "    .set_all_node_types(\"Gene\")\\\n",
    "    .set_all_edge_types(\"PPI\")\\\n",
    "    .remove_disconnected_nodes()\n",
    "path = f\"{graph_root}/kghub/SLDB/20220522/sldb/merged-kg_nodes.tsv\"\n",
    "data = pd.read_csv(path, sep=\"\\t\")\n",
    "remapping_sli = dict(zip(data[data.columns[0]], data[data.columns[2]]))\n",
    "# Restrict the graph to the largest connected component\n",
    "sli_graph = sli_graph.remap_from_node_names_map(remapping_sli).set_all_node_types(\"Gene\").set_all_edge_types(\"SLI\")\n",
    "composite_graph = (sli_graph | string_graph).remove_components(top_k_components=1)\n",
    "subgraph = composite_graph.filter_from_names(edge_type_names_to_keep=[\"SLI\"])"
   ]
  },
  {
   "cell_type": "markdown",
   "id": "37900ecf",
   "metadata": {},
   "source": [
    "<h2>Analyzing Perceptron Prediction of SLIs based only on node degree data</h2>\n",
    "<p>The following code tests the performance of predicting SLI edges based only on edge data (no graph machine learning is used; instead the following analysis uses various approaches to creating features based on the the node degrees of each edge (u,v), with the degree of node u being d(u)</p>\n",
    "<ol>\n",
    "    <li>Degree: The perceptron is given a two dimensional vector with [d(u), d(v)]</li>\n",
    "    <li>AdamicAdar index (See <a href=\"https://en.wikipedia.org/wiki/Adamic%E2%80%93Adar_index\">Wikipedia</a>).</li>\n",
    "    <li>JaccardCoefficient: the perceptron is given a single scalar equivalent to the count of shared neighbors divided by the count of the union of all neighbors.</li>\n",
    "     <li>ResourceAllocationIndex: See <a href=\"https://arxiv.org/pdf/0901.0553.pdf\">Zhou et al, 2009</a>.</li> \n",
    "     <li>PreferentialAttachment: the perceptron is given a single scalar equal to d(u)*d(v)</li>"
   ]
  },
  {
   "cell_type": "code",
   "execution_count": 3,
   "id": "7d91d21f",
   "metadata": {},
   "outputs": [
    {
     "data": {
      "application/vnd.jupyter.widget-view+json": {
       "model_id": "",
       "version_major": 2,
       "version_minor": 0
      },
      "text/plain": [
       "Validation use scale free:   0%|          | 0/2 [00:00<?, ?it/s]"
      ]
     },
     "metadata": {},
     "output_type": "display_data"
    },
    {
     "data": {
      "application/vnd.jupyter.widget-view+json": {
       "model_id": "",
       "version_major": 2,
       "version_minor": 0
      },
      "text/plain": [
       "Evaluating on (SLDB | HomoSapiens):   0%|                                                                  | 0…"
      ]
     },
     "metadata": {},
     "output_type": "display_data"
    },
    {
     "data": {
      "application/vnd.jupyter.widget-view+json": {
       "model_id": "",
       "version_major": 2,
       "version_minor": 0
      },
      "text/plain": [
       "  0%|                                                                                                      | 0…"
      ]
     },
     "metadata": {},
     "output_type": "display_data"
    },
    {
     "data": {
      "application/vnd.jupyter.widget-view+json": {
       "model_id": "",
       "version_major": 2,
       "version_minor": 0
      },
      "text/plain": [
       "  0%|                                                                                                      | 0…"
      ]
     },
     "metadata": {},
     "output_type": "display_data"
    },
    {
     "data": {
      "application/vnd.jupyter.widget-view+json": {
       "model_id": "",
       "version_major": 2,
       "version_minor": 0
      },
      "text/plain": [
       "  0%|                                                                                                      | 0…"
      ]
     },
     "metadata": {},
     "output_type": "display_data"
    },
    {
     "data": {
      "application/vnd.jupyter.widget-view+json": {
       "model_id": "",
       "version_major": 2,
       "version_minor": 0
      },
      "text/plain": [
       "  0%|                                                                                                      | 0…"
      ]
     },
     "metadata": {},
     "output_type": "display_data"
    },
    {
     "data": {
      "application/vnd.jupyter.widget-view+json": {
       "model_id": "",
       "version_major": 2,
       "version_minor": 0
      },
      "text/plain": [
       "  0%|                                                                                                      | 0…"
      ]
     },
     "metadata": {},
     "output_type": "display_data"
    },
    {
     "data": {
      "application/vnd.jupyter.widget-view+json": {
       "model_id": "",
       "version_major": 2,
       "version_minor": 0
      },
      "text/plain": [
       "  0%|                                                                                                      | 0…"
      ]
     },
     "metadata": {},
     "output_type": "display_data"
    },
    {
     "data": {
      "application/vnd.jupyter.widget-view+json": {
       "model_id": "",
       "version_major": 2,
       "version_minor": 0
      },
      "text/plain": [
       "  0%|                                                                                                      | 0…"
      ]
     },
     "metadata": {},
     "output_type": "display_data"
    },
    {
     "data": {
      "application/vnd.jupyter.widget-view+json": {
       "model_id": "",
       "version_major": 2,
       "version_minor": 0
      },
      "text/plain": [
       "  0%|                                                                                                      | 0…"
      ]
     },
     "metadata": {},
     "output_type": "display_data"
    },
    {
     "data": {
      "application/vnd.jupyter.widget-view+json": {
       "model_id": "",
       "version_major": 2,
       "version_minor": 0
      },
      "text/plain": [
       "  0%|                                                                                                      | 0…"
      ]
     },
     "metadata": {},
     "output_type": "display_data"
    },
    {
     "data": {
      "application/vnd.jupyter.widget-view+json": {
       "model_id": "",
       "version_major": 2,
       "version_minor": 0
      },
      "text/plain": [
       "  0%|                                                                                                      | 0…"
      ]
     },
     "metadata": {},
     "output_type": "display_data"
    },
    {
     "data": {
      "application/vnd.jupyter.widget-view+json": {
       "model_id": "",
       "version_major": 2,
       "version_minor": 0
      },
      "text/plain": [
       "Evaluating on (SLDB | HomoSapiens):   0%|                                                                  | 0…"
      ]
     },
     "metadata": {},
     "output_type": "display_data"
    },
    {
     "data": {
      "application/vnd.jupyter.widget-view+json": {
       "model_id": "",
       "version_major": 2,
       "version_minor": 0
      },
      "text/plain": [
       "  0%|                                                                                                      | 0…"
      ]
     },
     "metadata": {},
     "output_type": "display_data"
    },
    {
     "data": {
      "application/vnd.jupyter.widget-view+json": {
       "model_id": "",
       "version_major": 2,
       "version_minor": 0
      },
      "text/plain": [
       "  0%|                                                                                                      | 0…"
      ]
     },
     "metadata": {},
     "output_type": "display_data"
    },
    {
     "data": {
      "application/vnd.jupyter.widget-view+json": {
       "model_id": "",
       "version_major": 2,
       "version_minor": 0
      },
      "text/plain": [
       "  0%|                                                                                                      | 0…"
      ]
     },
     "metadata": {},
     "output_type": "display_data"
    },
    {
     "data": {
      "application/vnd.jupyter.widget-view+json": {
       "model_id": "",
       "version_major": 2,
       "version_minor": 0
      },
      "text/plain": [
       "  0%|                                                                                                      | 0…"
      ]
     },
     "metadata": {},
     "output_type": "display_data"
    },
    {
     "data": {
      "application/vnd.jupyter.widget-view+json": {
       "model_id": "",
       "version_major": 2,
       "version_minor": 0
      },
      "text/plain": [
       "  0%|                                                                                                      | 0…"
      ]
     },
     "metadata": {},
     "output_type": "display_data"
    },
    {
     "data": {
      "application/vnd.jupyter.widget-view+json": {
       "model_id": "",
       "version_major": 2,
       "version_minor": 0
      },
      "text/plain": [
       "  0%|                                                                                                      | 0…"
      ]
     },
     "metadata": {},
     "output_type": "display_data"
    },
    {
     "data": {
      "application/vnd.jupyter.widget-view+json": {
       "model_id": "",
       "version_major": 2,
       "version_minor": 0
      },
      "text/plain": [
       "  0%|                                                                                                      | 0…"
      ]
     },
     "metadata": {},
     "output_type": "display_data"
    },
    {
     "data": {
      "application/vnd.jupyter.widget-view+json": {
       "model_id": "",
       "version_major": 2,
       "version_minor": 0
      },
      "text/plain": [
       "  0%|                                                                                                      | 0…"
      ]
     },
     "metadata": {},
     "output_type": "display_data"
    },
    {
     "data": {
      "application/vnd.jupyter.widget-view+json": {
       "model_id": "",
       "version_major": 2,
       "version_minor": 0
      },
      "text/plain": [
       "  0%|                                                                                                      | 0…"
      ]
     },
     "metadata": {},
     "output_type": "display_data"
    },
    {
     "data": {
      "application/vnd.jupyter.widget-view+json": {
       "model_id": "",
       "version_major": 2,
       "version_minor": 0
      },
      "text/plain": [
       "  0%|                                                                                                      | 0…"
      ]
     },
     "metadata": {},
     "output_type": "display_data"
    }
   ],
   "source": [
    "results = []\n",
    "NUMBER_OF_HOLDOUTS = 10\n",
    "VALIDATION_UNBALANCE_RATES = (1.0, )\n",
    "train_size = 0.75\n",
    "for validation_use_scale_free in tqdm(\n",
    "    (True, False),\n",
    "    desc=\"Validation use scale free\",\n",
    "    leave=False\n",
    "):\n",
    "    results.append(edge_prediction_evaluation(\n",
    "        smoke_test=False,\n",
    "        holdouts_kwargs=dict(\n",
    "            train_size=train_size,\n",
    "            edge_types=[\"SLI\"],\n",
    "        ),\n",
    "        evaluation_schema=\"Connected Monte Carlo\",\n",
    "        graphs=composite_graph,\n",
    "        models=[\n",
    "            PerceptronEdgePrediction(\n",
    "                edge_features=edge_feature,\n",
    "                number_of_epochs=1000,\n",
    "                number_of_edges_per_mini_batch=16,\n",
    "                learning_rate=0.001,\n",
    "                use_scale_free_distribution=use_scale_free_distribution\n",
    "            )\n",
    "            for edge_feature in (\"Degree\",\"AdamicAdar\",\"JaccardCoefficient\",\"ResourceAllocationIndex\",\"PreferentialAttachment\") \n",
    "            for use_scale_free_distribution in (True, False)\n",
    "        ],\n",
    "        enable_cache=False,\n",
    "        number_of_holdouts=NUMBER_OF_HOLDOUTS,\n",
    "        use_scale_free_distribution=validation_use_scale_free,\n",
    "        validation_unbalance_rates=VALIDATION_UNBALANCE_RATES,\n",
    "        subgraph_of_interest=subgraph,\n",
    "        use_subgraph_as_support=False\n",
    "    ))\n",
    "results = pd.concat(results)\n",
    "results.to_csv(\"degree_only_perceptron.tsv\",sep=\"\\t\")"
   ]
  },
  {
   "cell_type": "markdown",
   "id": "1f55c2fa",
   "metadata": {},
   "source": [
    "<h2>Plotting results of node-degree based classification</h2>\n",
    "<p>We then evaluated a 2-layer neural network (perceptron) using five different feature generation approaches (see below).</p>"
   ]
  },
  {
   "cell_type": "code",
   "execution_count": 40,
   "id": "3f9d9af0",
   "metadata": {},
   "outputs": [
    {
     "data": {
      "text/html": [
       "<div>\n",
       "<style scoped>\n",
       "    .dataframe tbody tr th:only-of-type {\n",
       "        vertical-align: middle;\n",
       "    }\n",
       "\n",
       "    .dataframe tbody tr th {\n",
       "        vertical-align: top;\n",
       "    }\n",
       "\n",
       "    .dataframe thead th {\n",
       "        text-align: right;\n",
       "    }\n",
       "</style>\n",
       "<table border=\"1\" class=\"dataframe\">\n",
       "  <thead>\n",
       "    <tr style=\"text-align: right;\">\n",
       "      <th></th>\n",
       "      <th>mode</th>\n",
       "      <th>train_size</th>\n",
       "      <th>validation_unbalance_rate</th>\n",
       "      <th>use_scale_free_distribution</th>\n",
       "      <th>validation_sample_only_edges_with_heterogeneous_node_types</th>\n",
       "      <th>false_omission_rate</th>\n",
       "      <th>miss_rate</th>\n",
       "      <th>prevalence</th>\n",
       "      <th>markedness</th>\n",
       "      <th>positive_likelyhood_ratio</th>\n",
       "      <th>...</th>\n",
       "      <th>(model_parameters, number_of_epochs)</th>\n",
       "      <th>(model_parameters, number_of_edges_per_mini_batch)</th>\n",
       "      <th>(model_parameters, sample_only_edges_with_heterogeneous_node_types)</th>\n",
       "      <th>(model_parameters, learning_rate)</th>\n",
       "      <th>(model_parameters, first_order_decay_factor)</th>\n",
       "      <th>(model_parameters, second_order_decay_factor)</th>\n",
       "      <th>(model_parameters, avoid_false_negatives)</th>\n",
       "      <th>(model_parameters, use_scale_free_distribution)</th>\n",
       "      <th>methods</th>\n",
       "      <th>evaluation</th>\n",
       "    </tr>\n",
       "  </thead>\n",
       "  <tbody>\n",
       "    <tr>\n",
       "      <th>0</th>\n",
       "      <td>train</td>\n",
       "      <td>0.007185</td>\n",
       "      <td>1.0</td>\n",
       "      <td>True</td>\n",
       "      <td>False</td>\n",
       "      <td>0.239850</td>\n",
       "      <td>0.278626</td>\n",
       "      <td>0.5</td>\n",
       "      <td>0.620638</td>\n",
       "      <td>6.167832</td>\n",
       "      <td>...</td>\n",
       "      <td>1000</td>\n",
       "      <td>16</td>\n",
       "      <td>False</td>\n",
       "      <td>0.001</td>\n",
       "      <td>0.9</td>\n",
       "      <td>0.999</td>\n",
       "      <td>False</td>\n",
       "      <td>True</td>\n",
       "      <td>Degree</td>\n",
       "      <td>DANS</td>\n",
       "    </tr>\n",
       "    <tr>\n",
       "      <th>1</th>\n",
       "      <td>test</td>\n",
       "      <td>0.007185</td>\n",
       "      <td>1.0</td>\n",
       "      <td>True</td>\n",
       "      <td>False</td>\n",
       "      <td>0.257977</td>\n",
       "      <td>0.310966</td>\n",
       "      <td>0.5</td>\n",
       "      <td>0.609170</td>\n",
       "      <td>6.527132</td>\n",
       "      <td>...</td>\n",
       "      <td>1000</td>\n",
       "      <td>16</td>\n",
       "      <td>False</td>\n",
       "      <td>0.001</td>\n",
       "      <td>0.9</td>\n",
       "      <td>0.999</td>\n",
       "      <td>False</td>\n",
       "      <td>True</td>\n",
       "      <td>Degree</td>\n",
       "      <td>DANS</td>\n",
       "    </tr>\n",
       "    <tr>\n",
       "      <th>0</th>\n",
       "      <td>train</td>\n",
       "      <td>0.007185</td>\n",
       "      <td>1.0</td>\n",
       "      <td>True</td>\n",
       "      <td>False</td>\n",
       "      <td>0.177392</td>\n",
       "      <td>0.114231</td>\n",
       "      <td>0.5</td>\n",
       "      <td>0.475805</td>\n",
       "      <td>1.883478</td>\n",
       "      <td>...</td>\n",
       "      <td>1000</td>\n",
       "      <td>16</td>\n",
       "      <td>False</td>\n",
       "      <td>0.001</td>\n",
       "      <td>0.9</td>\n",
       "      <td>0.999</td>\n",
       "      <td>False</td>\n",
       "      <td>False</td>\n",
       "      <td>Degree</td>\n",
       "      <td>DANS</td>\n",
       "    </tr>\n",
       "    <tr>\n",
       "      <th>1</th>\n",
       "      <td>test</td>\n",
       "      <td>0.007185</td>\n",
       "      <td>1.0</td>\n",
       "      <td>True</td>\n",
       "      <td>False</td>\n",
       "      <td>0.210286</td>\n",
       "      <td>0.150573</td>\n",
       "      <td>0.5</td>\n",
       "      <td>0.451282</td>\n",
       "      <td>1.954802</td>\n",
       "      <td>...</td>\n",
       "      <td>1000</td>\n",
       "      <td>16</td>\n",
       "      <td>False</td>\n",
       "      <td>0.001</td>\n",
       "      <td>0.9</td>\n",
       "      <td>0.999</td>\n",
       "      <td>False</td>\n",
       "      <td>False</td>\n",
       "      <td>Degree</td>\n",
       "      <td>DANS</td>\n",
       "    </tr>\n",
       "    <tr>\n",
       "      <th>0</th>\n",
       "      <td>train</td>\n",
       "      <td>0.007185</td>\n",
       "      <td>1.0</td>\n",
       "      <td>True</td>\n",
       "      <td>False</td>\n",
       "      <td>0.925714</td>\n",
       "      <td>0.088332</td>\n",
       "      <td>0.5</td>\n",
       "      <td>-0.447043</td>\n",
       "      <td>0.918177</td>\n",
       "      <td>...</td>\n",
       "      <td>1000</td>\n",
       "      <td>16</td>\n",
       "      <td>False</td>\n",
       "      <td>0.001</td>\n",
       "      <td>0.9</td>\n",
       "      <td>0.999</td>\n",
       "      <td>False</td>\n",
       "      <td>True</td>\n",
       "      <td>Adamic Adar</td>\n",
       "      <td>DANS</td>\n",
       "    </tr>\n",
       "  </tbody>\n",
       "</table>\n",
       "<p>5 rows × 69 columns</p>\n",
       "</div>"
      ],
      "text/plain": [
       "    mode  train_size  validation_unbalance_rate  use_scale_free_distribution  \\\n",
       "0  train    0.007185                        1.0                         True   \n",
       "1   test    0.007185                        1.0                         True   \n",
       "0  train    0.007185                        1.0                         True   \n",
       "1   test    0.007185                        1.0                         True   \n",
       "0  train    0.007185                        1.0                         True   \n",
       "\n",
       "   validation_sample_only_edges_with_heterogeneous_node_types  \\\n",
       "0                                              False            \n",
       "1                                              False            \n",
       "0                                              False            \n",
       "1                                              False            \n",
       "0                                              False            \n",
       "\n",
       "   false_omission_rate  miss_rate  prevalence  markedness  \\\n",
       "0             0.239850   0.278626         0.5    0.620638   \n",
       "1             0.257977   0.310966         0.5    0.609170   \n",
       "0             0.177392   0.114231         0.5    0.475805   \n",
       "1             0.210286   0.150573         0.5    0.451282   \n",
       "0             0.925714   0.088332         0.5   -0.447043   \n",
       "\n",
       "   positive_likelyhood_ratio  ...  (model_parameters, number_of_epochs)  \\\n",
       "0                   6.167832  ...                                  1000   \n",
       "1                   6.527132  ...                                  1000   \n",
       "0                   1.883478  ...                                  1000   \n",
       "1                   1.954802  ...                                  1000   \n",
       "0                   0.918177  ...                                  1000   \n",
       "\n",
       "   (model_parameters, number_of_edges_per_mini_batch)  \\\n",
       "0                                                 16    \n",
       "1                                                 16    \n",
       "0                                                 16    \n",
       "1                                                 16    \n",
       "0                                                 16    \n",
       "\n",
       "   (model_parameters, sample_only_edges_with_heterogeneous_node_types)  \\\n",
       "0                                              False                     \n",
       "1                                              False                     \n",
       "0                                              False                     \n",
       "1                                              False                     \n",
       "0                                              False                     \n",
       "\n",
       "   (model_parameters, learning_rate)  \\\n",
       "0                              0.001   \n",
       "1                              0.001   \n",
       "0                              0.001   \n",
       "1                              0.001   \n",
       "0                              0.001   \n",
       "\n",
       "   (model_parameters, first_order_decay_factor)  \\\n",
       "0                                           0.9   \n",
       "1                                           0.9   \n",
       "0                                           0.9   \n",
       "1                                           0.9   \n",
       "0                                           0.9   \n",
       "\n",
       "   (model_parameters, second_order_decay_factor)  \\\n",
       "0                                          0.999   \n",
       "1                                          0.999   \n",
       "0                                          0.999   \n",
       "1                                          0.999   \n",
       "0                                          0.999   \n",
       "\n",
       "   (model_parameters, avoid_false_negatives)  \\\n",
       "0                                      False   \n",
       "1                                      False   \n",
       "0                                      False   \n",
       "1                                      False   \n",
       "0                                      False   \n",
       "\n",
       "   (model_parameters, use_scale_free_distribution)      methods  evaluation  \n",
       "0                                             True       Degree        DANS  \n",
       "1                                             True       Degree        DANS  \n",
       "0                                            False       Degree        DANS  \n",
       "1                                            False       Degree        DANS  \n",
       "0                                             True  Adamic Adar        DANS  \n",
       "\n",
       "[5 rows x 69 columns]"
      ]
     },
     "execution_count": 40,
     "metadata": {},
     "output_type": "execute_result"
    }
   ],
   "source": [
    "df = results.copy()\n",
    "df['edge_features'] =  df[('model_parameters', 'edge_features')] \\\n",
    "     .map(lambda x: x.replace(\"['\",\"\").replace(\"']\",\"\"))\n",
    "df[\"evaluation\"] = [\n",
    "    \"DANS\"\n",
    "    if use_scale_free_distribution\n",
    "    else \"UNS\"\n",
    "    for use_scale_free_distribution in df.use_scale_free_distribution\n",
    "]\n",
    "\n",
    "df[\"edge_features\"] = [f.replace(\"ResourceAllocationIndex\", \"RAI\") for f in df[\"edge_features\"]]\n",
    "df[\"edge_features\"] = [f.replace(\"JaccardCoefficient\", \"Jaccard\") for f in df[\"edge_features\"]]\n",
    "df[\"edge_features\"] = [f.replace(\"PreferentialAttachment\", \"Pref. Attach\") for f in df[\"edge_features\"]]\n",
    "df[\"edge_features\"] = [f.replace(\"AdamicAdar\", \"Adamic Adar\") for f in df[\"edge_features\"]]\n",
    "df = df.rename(columns={\"evaluation_mode\": \"mode\", 'edge_features':'methods'})\n",
    "df.head()"
   ]
  },
  {
   "cell_type": "code",
   "execution_count": 41,
   "id": "b1fd3658",
   "metadata": {},
   "outputs": [],
   "source": [
    "def get_mean_and_sd(df):\n",
    "    \"\"\"\n",
    "    Calculate mean and standard deviation of the five methods tried above\n",
    "    \"\"\"\n",
    "    # Define the columns that we want to calculate mean and sem for\n",
    "    evaluation_d = {'balanced_accuracy':['mean','std'],\n",
    "               'false_discovery_rate':['mean','std'], \n",
    "               'matthews_correlation_coefficient':['mean','std'], \n",
    "               'f1_score':['mean','std'], \n",
    "               'auroc':['mean','std'], \n",
    "               'auprc':['mean','std']}\n",
    "    # Calculate mean and standard dev\n",
    "    df2 =  df.groupby(['methods','mode','evaluation']).agg(evaluation_d).reset_index()\n",
    "    return df2"
   ]
  },
  {
   "cell_type": "code",
   "execution_count": 42,
   "id": "51b93bd0",
   "metadata": {},
   "outputs": [],
   "source": [
    "def rename_columns(df):\n",
    "    columns = [\"methods\",'mode','evaluation',\n",
    "           \"balanced_acc.mean\",\"balanced_acc.std\", \n",
    "           \"FDR.mean\", \"FDR.std\", \n",
    "           \"MCC.mean\", \"MCC.std\", \n",
    "           \"F1.mean\", \"F1.std\", \n",
    "           \"AUROC.mean\", \"AUROC.std\", \n",
    "           \"AUPRC.mean\",\"AUPRC.std\"]\n",
    "    df.columns = columns\n",
    "    return df"
   ]
  },
  {
   "cell_type": "code",
   "execution_count": 43,
   "id": "4e725827",
   "metadata": {},
   "outputs": [
    {
     "data": {
      "text/html": [
       "<div>\n",
       "<style scoped>\n",
       "    .dataframe tbody tr th:only-of-type {\n",
       "        vertical-align: middle;\n",
       "    }\n",
       "\n",
       "    .dataframe tbody tr th {\n",
       "        vertical-align: top;\n",
       "    }\n",
       "\n",
       "    .dataframe thead tr th {\n",
       "        text-align: left;\n",
       "    }\n",
       "</style>\n",
       "<table border=\"1\" class=\"dataframe\">\n",
       "  <thead>\n",
       "    <tr>\n",
       "      <th></th>\n",
       "      <th>methods</th>\n",
       "      <th>mode</th>\n",
       "      <th>evaluation</th>\n",
       "      <th colspan=\"2\" halign=\"left\">balanced_accuracy</th>\n",
       "      <th colspan=\"2\" halign=\"left\">false_discovery_rate</th>\n",
       "      <th colspan=\"2\" halign=\"left\">matthews_correlation_coefficient</th>\n",
       "      <th colspan=\"2\" halign=\"left\">f1_score</th>\n",
       "      <th colspan=\"2\" halign=\"left\">auroc</th>\n",
       "      <th colspan=\"2\" halign=\"left\">auprc</th>\n",
       "    </tr>\n",
       "    <tr>\n",
       "      <th></th>\n",
       "      <th></th>\n",
       "      <th></th>\n",
       "      <th></th>\n",
       "      <th>mean</th>\n",
       "      <th>std</th>\n",
       "      <th>mean</th>\n",
       "      <th>std</th>\n",
       "      <th>mean</th>\n",
       "      <th>std</th>\n",
       "      <th>mean</th>\n",
       "      <th>std</th>\n",
       "      <th>mean</th>\n",
       "      <th>std</th>\n",
       "      <th>mean</th>\n",
       "      <th>std</th>\n",
       "    </tr>\n",
       "  </thead>\n",
       "  <tbody>\n",
       "    <tr>\n",
       "      <th>0</th>\n",
       "      <td>Adamic Adar</td>\n",
       "      <td>test</td>\n",
       "      <td>DANS</td>\n",
       "      <td>0.611334</td>\n",
       "      <td>0.160784</td>\n",
       "      <td>0.362146</td>\n",
       "      <td>0.166363</td>\n",
       "      <td>0.172002</td>\n",
       "      <td>0.378014</td>\n",
       "      <td>0.688694</td>\n",
       "      <td>0.070118</td>\n",
       "      <td>0.490234</td>\n",
       "      <td>0.314209</td>\n",
       "      <td>0.580789</td>\n",
       "      <td>0.241593</td>\n",
       "    </tr>\n",
       "    <tr>\n",
       "      <th>1</th>\n",
       "      <td>Adamic Adar</td>\n",
       "      <td>test</td>\n",
       "      <td>UNS</td>\n",
       "      <td>0.649673</td>\n",
       "      <td>0.201916</td>\n",
       "      <td>0.276793</td>\n",
       "      <td>0.254660</td>\n",
       "      <td>0.256874</td>\n",
       "      <td>0.475523</td>\n",
       "      <td>0.722438</td>\n",
       "      <td>0.104098</td>\n",
       "      <td>0.548797</td>\n",
       "      <td>0.427234</td>\n",
       "      <td>0.651279</td>\n",
       "      <td>0.325402</td>\n",
       "    </tr>\n",
       "    <tr>\n",
       "      <th>2</th>\n",
       "      <td>Adamic Adar</td>\n",
       "      <td>train</td>\n",
       "      <td>DANS</td>\n",
       "      <td>0.604267</td>\n",
       "      <td>0.146600</td>\n",
       "      <td>0.364795</td>\n",
       "      <td>0.159817</td>\n",
       "      <td>0.162231</td>\n",
       "      <td>0.347829</td>\n",
       "      <td>0.677699</td>\n",
       "      <td>0.052360</td>\n",
       "      <td>0.498305</td>\n",
       "      <td>0.291506</td>\n",
       "      <td>0.576984</td>\n",
       "      <td>0.225465</td>\n",
       "    </tr>\n",
       "    <tr>\n",
       "      <th>3</th>\n",
       "      <td>Adamic Adar</td>\n",
       "      <td>train</td>\n",
       "      <td>UNS</td>\n",
       "      <td>0.641712</td>\n",
       "      <td>0.187708</td>\n",
       "      <td>0.276882</td>\n",
       "      <td>0.251151</td>\n",
       "      <td>0.245224</td>\n",
       "      <td>0.449975</td>\n",
       "      <td>0.710365</td>\n",
       "      <td>0.085611</td>\n",
       "      <td>0.563282</td>\n",
       "      <td>0.409496</td>\n",
       "      <td>0.655286</td>\n",
       "      <td>0.318001</td>\n",
       "    </tr>\n",
       "    <tr>\n",
       "      <th>4</th>\n",
       "      <td>Degree</td>\n",
       "      <td>test</td>\n",
       "      <td>DANS</td>\n",
       "      <td>0.749509</td>\n",
       "      <td>0.042220</td>\n",
       "      <td>0.246094</td>\n",
       "      <td>0.098476</td>\n",
       "      <td>0.515209</td>\n",
       "      <td>0.077119</td>\n",
       "      <td>0.759785</td>\n",
       "      <td>0.014519</td>\n",
       "      <td>0.846070</td>\n",
       "      <td>0.011461</td>\n",
       "      <td>0.852403</td>\n",
       "      <td>0.012886</td>\n",
       "    </tr>\n",
       "  </tbody>\n",
       "</table>\n",
       "</div>"
      ],
      "text/plain": [
       "       methods   mode evaluation balanced_accuracy            \\\n",
       "                                              mean       std   \n",
       "0  Adamic Adar   test       DANS          0.611334  0.160784   \n",
       "1  Adamic Adar   test        UNS          0.649673  0.201916   \n",
       "2  Adamic Adar  train       DANS          0.604267  0.146600   \n",
       "3  Adamic Adar  train        UNS          0.641712  0.187708   \n",
       "4       Degree   test       DANS          0.749509  0.042220   \n",
       "\n",
       "  false_discovery_rate           matthews_correlation_coefficient            \\\n",
       "                  mean       std                             mean       std   \n",
       "0             0.362146  0.166363                         0.172002  0.378014   \n",
       "1             0.276793  0.254660                         0.256874  0.475523   \n",
       "2             0.364795  0.159817                         0.162231  0.347829   \n",
       "3             0.276882  0.251151                         0.245224  0.449975   \n",
       "4             0.246094  0.098476                         0.515209  0.077119   \n",
       "\n",
       "   f1_score               auroc               auprc            \n",
       "       mean       std      mean       std      mean       std  \n",
       "0  0.688694  0.070118  0.490234  0.314209  0.580789  0.241593  \n",
       "1  0.722438  0.104098  0.548797  0.427234  0.651279  0.325402  \n",
       "2  0.677699  0.052360  0.498305  0.291506  0.576984  0.225465  \n",
       "3  0.710365  0.085611  0.563282  0.409496  0.655286  0.318001  \n",
       "4  0.759785  0.014519  0.846070  0.011461  0.852403  0.012886  "
      ]
     },
     "execution_count": 43,
     "metadata": {},
     "output_type": "execute_result"
    }
   ],
   "source": [
    "df_summary = get_mean_and_sd(df)\n",
    "df_summary.head()"
   ]
  },
  {
   "cell_type": "code",
   "execution_count": 46,
   "id": "6b70796a",
   "metadata": {},
   "outputs": [
    {
     "data": {
      "text/html": [
       "<div>\n",
       "<style scoped>\n",
       "    .dataframe tbody tr th:only-of-type {\n",
       "        vertical-align: middle;\n",
       "    }\n",
       "\n",
       "    .dataframe tbody tr th {\n",
       "        vertical-align: top;\n",
       "    }\n",
       "\n",
       "    .dataframe thead th {\n",
       "        text-align: right;\n",
       "    }\n",
       "</style>\n",
       "<table border=\"1\" class=\"dataframe\">\n",
       "  <thead>\n",
       "    <tr style=\"text-align: right;\">\n",
       "      <th></th>\n",
       "      <th>methods</th>\n",
       "      <th>mode</th>\n",
       "      <th>evaluation</th>\n",
       "      <th>balanced_acc.mean</th>\n",
       "      <th>balanced_acc.std</th>\n",
       "      <th>FDR.mean</th>\n",
       "      <th>FDR.std</th>\n",
       "      <th>MCC.mean</th>\n",
       "      <th>MCC.std</th>\n",
       "      <th>F1.mean</th>\n",
       "      <th>F1.std</th>\n",
       "      <th>AUROC.mean</th>\n",
       "      <th>AUROC.std</th>\n",
       "      <th>AUPRC.mean</th>\n",
       "      <th>AUPRC.std</th>\n",
       "      <th>approach</th>\n",
       "    </tr>\n",
       "  </thead>\n",
       "  <tbody>\n",
       "    <tr>\n",
       "      <th>0</th>\n",
       "      <td>Adamic Adar</td>\n",
       "      <td>test</td>\n",
       "      <td>DANS</td>\n",
       "      <td>0.611334</td>\n",
       "      <td>0.160784</td>\n",
       "      <td>0.362146</td>\n",
       "      <td>0.166363</td>\n",
       "      <td>0.172002</td>\n",
       "      <td>0.378014</td>\n",
       "      <td>0.688694</td>\n",
       "      <td>0.070118</td>\n",
       "      <td>0.490234</td>\n",
       "      <td>0.314209</td>\n",
       "      <td>0.580789</td>\n",
       "      <td>0.241593</td>\n",
       "      <td>DANS (test)</td>\n",
       "    </tr>\n",
       "    <tr>\n",
       "      <th>1</th>\n",
       "      <td>Adamic Adar</td>\n",
       "      <td>test</td>\n",
       "      <td>UNS</td>\n",
       "      <td>0.649673</td>\n",
       "      <td>0.201916</td>\n",
       "      <td>0.276793</td>\n",
       "      <td>0.254660</td>\n",
       "      <td>0.256874</td>\n",
       "      <td>0.475523</td>\n",
       "      <td>0.722438</td>\n",
       "      <td>0.104098</td>\n",
       "      <td>0.548797</td>\n",
       "      <td>0.427234</td>\n",
       "      <td>0.651279</td>\n",
       "      <td>0.325402</td>\n",
       "      <td>UNS (test)</td>\n",
       "    </tr>\n",
       "    <tr>\n",
       "      <th>2</th>\n",
       "      <td>Adamic Adar</td>\n",
       "      <td>train</td>\n",
       "      <td>DANS</td>\n",
       "      <td>0.604267</td>\n",
       "      <td>0.146600</td>\n",
       "      <td>0.364795</td>\n",
       "      <td>0.159817</td>\n",
       "      <td>0.162231</td>\n",
       "      <td>0.347829</td>\n",
       "      <td>0.677699</td>\n",
       "      <td>0.052360</td>\n",
       "      <td>0.498305</td>\n",
       "      <td>0.291506</td>\n",
       "      <td>0.576984</td>\n",
       "      <td>0.225465</td>\n",
       "      <td>DANS (train)</td>\n",
       "    </tr>\n",
       "    <tr>\n",
       "      <th>3</th>\n",
       "      <td>Adamic Adar</td>\n",
       "      <td>train</td>\n",
       "      <td>UNS</td>\n",
       "      <td>0.641712</td>\n",
       "      <td>0.187708</td>\n",
       "      <td>0.276882</td>\n",
       "      <td>0.251151</td>\n",
       "      <td>0.245224</td>\n",
       "      <td>0.449975</td>\n",
       "      <td>0.710365</td>\n",
       "      <td>0.085611</td>\n",
       "      <td>0.563282</td>\n",
       "      <td>0.409496</td>\n",
       "      <td>0.655286</td>\n",
       "      <td>0.318001</td>\n",
       "      <td>UNS (train)</td>\n",
       "    </tr>\n",
       "    <tr>\n",
       "      <th>4</th>\n",
       "      <td>Degree</td>\n",
       "      <td>test</td>\n",
       "      <td>DANS</td>\n",
       "      <td>0.749509</td>\n",
       "      <td>0.042220</td>\n",
       "      <td>0.246094</td>\n",
       "      <td>0.098476</td>\n",
       "      <td>0.515209</td>\n",
       "      <td>0.077119</td>\n",
       "      <td>0.759785</td>\n",
       "      <td>0.014519</td>\n",
       "      <td>0.846070</td>\n",
       "      <td>0.011461</td>\n",
       "      <td>0.852403</td>\n",
       "      <td>0.012886</td>\n",
       "      <td>DANS (test)</td>\n",
       "    </tr>\n",
       "  </tbody>\n",
       "</table>\n",
       "</div>"
      ],
      "text/plain": [
       "       methods   mode evaluation  balanced_acc.mean  balanced_acc.std  \\\n",
       "0  Adamic Adar   test       DANS           0.611334          0.160784   \n",
       "1  Adamic Adar   test        UNS           0.649673          0.201916   \n",
       "2  Adamic Adar  train       DANS           0.604267          0.146600   \n",
       "3  Adamic Adar  train        UNS           0.641712          0.187708   \n",
       "4       Degree   test       DANS           0.749509          0.042220   \n",
       "\n",
       "   FDR.mean   FDR.std  MCC.mean   MCC.std   F1.mean    F1.std  AUROC.mean  \\\n",
       "0  0.362146  0.166363  0.172002  0.378014  0.688694  0.070118    0.490234   \n",
       "1  0.276793  0.254660  0.256874  0.475523  0.722438  0.104098    0.548797   \n",
       "2  0.364795  0.159817  0.162231  0.347829  0.677699  0.052360    0.498305   \n",
       "3  0.276882  0.251151  0.245224  0.449975  0.710365  0.085611    0.563282   \n",
       "4  0.246094  0.098476  0.515209  0.077119  0.759785  0.014519    0.846070   \n",
       "\n",
       "   AUROC.std  AUPRC.mean  AUPRC.std      approach  \n",
       "0   0.314209    0.580789   0.241593   DANS (test)  \n",
       "1   0.427234    0.651279   0.325402    UNS (test)  \n",
       "2   0.291506    0.576984   0.225465  DANS (train)  \n",
       "3   0.409496    0.655286   0.318001   UNS (train)  \n",
       "4   0.011461    0.852403   0.012886   DANS (test)  "
      ]
     },
     "execution_count": 46,
     "metadata": {},
     "output_type": "execute_result"
    }
   ],
   "source": [
    "df_summary = rename_columns(df_summary)\n",
    "df_summary['approach'] = df_summary['evaluation'] + \" (\" + df_summary['mode'] + \")\"\n",
    "df_summary.head()"
   ]
  },
  {
   "cell_type": "code",
   "execution_count": 10,
   "id": "7e0e6081",
   "metadata": {},
   "outputs": [],
   "source": [
    "df_summary.to_csv(\"degree_only_sli.csv\")"
   ]
  },
  {
   "cell_type": "markdown",
   "id": "67ecde24",
   "metadata": {},
   "source": [
    "<h2>Preferential attachment</h2>\n",
    "<p>The mechanism of\n",
    "preferential attachment can be used to generate evolving\n",
    "scale-free networks (i.e., networks with power-law degree\n",
    "distributions), where the probability that a new link is\n",
    "connected to the node x is proportional to k(x). A similariytmatrix can be defined as s<sub>uv</sub> = d(u) × d(v). </p>\n",
    "<p>It was described in 2011 that node degree alone can be used for many predictions in bioinformatics (<a href=\"https://pubmed.ncbi.nlm.nih.gov/21364756/\">Gillis J, Pavlidis P. The impact of multifunctional genes on \"guilt by association\" analysis. PLoS One. 2011 Feb 18;6(2):e17258.</a>). In the following cell, we show that sampling the SLI graph in three different ways leads to substantially different distributions, which in principle yield features that can be leveraged for classification. However, unless the biological signal one is looking for is node degree, it is likely that the classifier is not doing what the user expected.</p> "
   ]
  },
  {
   "cell_type": "code",
   "execution_count": 12,
   "id": "e1bad541",
   "metadata": {},
   "outputs": [
    {
     "data": {
      "image/png": "[encoded data removed]",
      "text/plain": [
       "<Figure size 2560x1920 with 1 Axes>"
      ]
     },
     "metadata": {},
     "output_type": "display_data"
    }
   ],
   "source": [
    "import matplotlib.pyplot as plt\n",
    "\n",
    "negative = subgraph.sample_negative_graph(\n",
    "    number_of_negative_samples=subgraph.get_number_of_edges(),\n",
    "    use_scale_free_distribution=False,\n",
    ")\n",
    "\n",
    "negative_scale_free = subgraph.sample_negative_graph(\n",
    "    number_of_negative_samples=subgraph.get_number_of_edges(),\n",
    "    use_scale_free_distribution=True,\n",
    ")\n",
    "\n",
    "\n",
    "fig, axes = plt.subplots(dpi=400)\n",
    "\n",
    "plt.hist(\n",
    "    [\n",
    "        composite_graph.get_preferential_attachment_scores(normalize=True, subgraph=subgraph),\n",
    "        composite_graph.get_preferential_attachment_scores(normalize=True, subgraph=negative),\n",
    "        composite_graph.get_preferential_attachment_scores(normalize=True, subgraph=negative_scale_free)\n",
    "    ],\n",
    "    log=True,\n",
    "    bins=40,\n",
    "    label=[\"SLI\", \"UNS\", \"DANS\"]\n",
    ")\n",
    "plt.legend()\n",
    "#plt.xlabel(\"Normalized preferential attachment\")\n",
    "#plt.ylabel(\"Count (log scale)\")\n",
    "plt.xticks(fontsize=18)\n",
    "plt.yticks(fontsize=24)\n",
    "plt.savefig(\"norm_pref_attach.pdf\", format=\"pdf\", bbox_inches=\"tight\")"
   ]
  },
  {
   "cell_type": "code",
   "execution_count": null,
   "id": "055d6509",
   "metadata": {},
   "outputs": [],
   "source": []
  }
 ],
 "metadata": {
  "kernelspec": {
   "display_name": "nevenv",
   "language": "python",
   "name": "nevenv"
  },
  "language_info": {
   "codemirror_mode": {
    "name": "ipython",
    "version": 3
   },
   "file_extension": ".py",
   "mimetype": "text/x-python",
   "name": "python",
   "nbconvert_exporter": "python",
   "pygments_lexer": "ipython3",
   "version": "3.10.9"
  }
 },
 "nbformat": 4,
 "nbformat_minor": 5
}
