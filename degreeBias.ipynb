{
 "cells": [
  {
   "cell_type": "markdown",
   "id": "1617ed97",
   "metadata": {},
   "source": [
    "<h1>Synthetic Lethality Interaction Network Bias</h1>\n",
    "\n",
    "<p>The purpose of this notebook is to demonstrate the influence of node degree on the performance of graph machine learning. We use the same graph that was presented in the notebook\n",
    "    <a href=\"https://github.com/monarch-initiative/negativeExampleSelection/blob/main/SliNetwork.ipynb\" target=\"__blank\">SliNetwork</a>.</p>"
   ]
  },
  {
   "cell_type": "code",
   "execution_count": 1,
   "id": "50e07ed0",
   "metadata": {},
   "outputs": [],
   "source": [
    "from grape.datasets.kghub import SLDB\n",
    "from grape.datasets.string import HomoSapiens\n",
    "import pandas as pd\n",
    "from tqdm.auto import tqdm\n",
    "from grape.embedders import embed_graph, DeepWalkSkipGramEnsmallen, Node2VecSkipGramEnsmallen, Node2VecCBOWEnsmallen, Node2VecGloVeEnsmallen\n",
    "from grape import GraphVisualizer\n",
    "from grape.edge_prediction import (\n",
    "    DecisionTreeEdgePrediction,\n",
    "    edge_prediction_evaluation,\n",
    "    PerceptronEdgePrediction,\n",
    "    KipfGCNEdgePrediction,\n",
    "    RandomForestEdgePrediction,\n",
    ")\n",
    "import pandas as pd\n",
    "from collections import Counter\n",
    "from operator import itemgetter\n",
    "from tqdm.auto import tqdm, trange\n",
    "from typing import List, Generator, Optional\n",
    "import matplotlib.pyplot as plt\n",
    "from matplotlib.axes import Axes\n",
    "from matplotlib.figure import Figure\n",
    "from IPython.display import HTML\n",
    "import warnings\n",
    "warnings.filterwarnings('ignore')"
   ]
  },
  {
   "cell_type": "markdown",
   "id": "9471c9b8",
   "metadata": {},
   "source": [
    "<h3>Constants</h3>\n",
    "<p>The results presented here are typical for results obtained with a wide range of parameter settings.\n",
    "The following settings can be changed here for the entire workbook.</p>"
   ]
  },
  {
   "cell_type": "code",
   "execution_count": 2,
   "id": "cb1daba8",
   "metadata": {},
   "outputs": [],
   "source": [
    "NUMBER_OF_HOLDOUTS = 10\n",
    "TRAIN_SIZE = 0.80\n",
    "STRING_QUALITY_THRESHOLD = 700"
   ]
  },
  {
   "cell_type": "code",
   "execution_count": 3,
   "id": "7d91d21f",
   "metadata": {},
   "outputs": [
    {
     "name": "stdout",
     "output_type": "stream",
     "text": [
      "CPU times: user 21.2 s, sys: 2.85 s, total: 24.1 s\n",
      "Wall time: 13.4 s\n"
     ]
    }
   ],
   "source": [
    "%%time\n",
    "sldb = SLDB()\n",
    "stringGraph = HomoSapiens()\n",
    "path = \"graphs/string/HomoSapiens/links.v11.5/9606.protein.info.v11.5.txt\"\n",
    "data = pd.read_csv(path, sep=\"\\t\")\n",
    "remapping_string = dict(zip(data[data.columns[0]], data[data.columns[1]]))\n",
    "string_graph = stringGraph \\\n",
    "    .remove_node_types() \\\n",
    "    .filter_from_names(min_edge_weight=STRING_QUALITY_THRESHOLD) \\\n",
    "    .remove_edge_weights() \\\n",
    "    .remap_from_node_names_map(remapping_string) \\\n",
    "    .set_all_node_types(\"Gene\") \\\n",
    "    .set_all_edge_types(\"PPI\") \\\n",
    "    .remove_disconnected_nodes()\n",
    "path = \"graphs/kghub/SLDB/20220522/sldb/merged-kg_nodes.tsv\"\n",
    "data = pd.read_csv(path, sep=\"\\t\")\n",
    "remapping_sli = dict(zip(data[data.columns[0]], data[data.columns[2]]))\n",
    "\n",
    "# We load the SLI graph\n",
    "sli_graph = SLDB() \\\n",
    "    .remap_from_node_names_map(remapping_sli) \\\n",
    "    .set_all_node_types(\"Gene\") \\\n",
    "    .set_all_edge_types(\"SLI\")\n",
    "composite_graph = (sli_graph | string_graph) \\\n",
    "    .remove_components(top_k_components=1)\n",
    "\n",
    "composite_graph.enable()\n",
    "\n",
    "sli_subgraph = composite_graph.filter_from_names(\n",
    "    edge_type_names_to_keep=[\"SLI\"]\n",
    ")\n",
    "sli_subgraph.enable()"
   ]
  },
  {
   "cell_type": "markdown",
   "id": "081ca572",
   "metadata": {},
   "source": [
    "<h2>Differential degree distribution of genes with  SLIs</h2>\n",
    "<p>As could be seen in the SliNetwork notebook, the SLI subnetwork displays a scale-free distribution. We show here that the nodes of the SLI network differ in the mean degree compared to other nodes in the network.</p>"
   ]
  },
  {
   "cell_type": "code",
   "execution_count": 4,
   "id": "2c649dc4",
   "metadata": {},
   "outputs": [
    {
     "name": "stdout",
     "output_type": "stream",
     "text": [
      "Mean degree of genes in SLI set: 71 and genes not in SLI set 25\n"
     ]
    }
   ],
   "source": [
    "from statistics import mean\n",
    "node_labels = composite_graph.get_node_names()\n",
    "node_degrees = composite_graph.get_node_degrees()\n",
    "node_degree_d = dict(zip(node_labels, node_degrees))\n",
    "sli_label_set = set(sli_graph.get_node_names())\n",
    "mean_sli_degree = mean([degree for gene, degree in node_degree_d.items() if gene in sli_label_set])\n",
    "mean_nonsli_degree = mean([degree for gene, degree in node_degree_d.items() if gene not in sli_label_set])\n",
    "print(f\"Mean degree of genes in SLI set: {mean_sli_degree} and genes not in SLI set {mean_nonsli_degree}\")"
   ]
  },
  {
   "cell_type": "markdown",
   "id": "1f55c2fa",
   "metadata": {},
   "source": [
    "<p>In the following, we show that classifiers can exploit this difference to make predictions based solely on node degree.</p>"
   ]
  },
  {
   "cell_type": "code",
   "execution_count": 5,
   "id": "46a872af",
   "metadata": {},
   "outputs": [],
   "source": [
    "def get_dict_with_values(df, name, normalized):\n",
    "    \"\"\"\n",
    "    convenience function to group results in a dictionary\n",
    "    \"\"\"\n",
    "    results = df.groupby(['evaluation_mode',]).agg(['mean','std'])[['balanced_accuracy']]\n",
    "    test_results = results.loc['test'].values\n",
    "    train_results = results.loc['train'].values\n",
    "    d = {'name': name, 'test.mean' : test_results[0], 'test.std': test_results[1], \n",
    "       'train.mean' : train_results[0], 'train.std': train_results[1]}\n",
    "    if normalized:\n",
    "        d['normalized'] = \"True\"\n",
    "    else:\n",
    "        d['normalized'] = \"False\"\n",
    "    d['train_size'] = TRAIN_SIZE\n",
    "    d['holdouts'] = NUMBER_OF_HOLDOUTS\n",
    "    return d"
   ]
  },
  {
   "cell_type": "markdown",
   "id": "1753e372",
   "metadata": {},
   "source": [
    "<h2>Prediction on the basis of node degree</h2>\n",
    "<p>Here we show that a simple perceptron is able to achieve a reasonable prediction accuracy in a  cross-validation setting in which we do not sample edges in training or validation based on node degree. This analysis is intended to demonstrate the potential for overfitting based on node degree.</p>"
   ]
  },
  {
   "cell_type": "code",
   "execution_count": 6,
   "id": "51d3246e",
   "metadata": {},
   "outputs": [
    {
     "data": {
      "application/vnd.jupyter.widget-view+json": {
       "model_id": "",
       "version_major": 2,
       "version_minor": 0
      },
      "text/plain": [
       "Evaluating on SLDB:   0%|                                                                                     …"
      ]
     },
     "metadata": {},
     "output_type": "display_data"
    }
   ],
   "source": [
    "results_degree = edge_prediction_evaluation(\n",
    "    holdouts_kwargs=dict(train_size=TRAIN_SIZE),\n",
    "    graphs=sldb,\n",
    "    number_of_holdouts=NUMBER_OF_HOLDOUTS,\n",
    "    models=PerceptronEdgePrediction(\n",
    "        edge_features=[\"Degree\"],\n",
    "        use_scale_free_distribution=False,\n",
    "        number_of_edges_per_mini_batch=16\n",
    "    ),\n",
    "    use_scale_free_distribution=False,\n",
    ")"
   ]
  },
  {
   "cell_type": "code",
   "execution_count": 7,
   "id": "fb7814f2",
   "metadata": {},
   "outputs": [
    {
     "data": {
      "text/html": [
       "<div>\n",
       "<style scoped>\n",
       "    .dataframe tbody tr th:only-of-type {\n",
       "        vertical-align: middle;\n",
       "    }\n",
       "\n",
       "    .dataframe tbody tr th {\n",
       "        vertical-align: top;\n",
       "    }\n",
       "\n",
       "    .dataframe thead tr th {\n",
       "        text-align: left;\n",
       "    }\n",
       "\n",
       "    .dataframe thead tr:last-of-type th {\n",
       "        text-align: right;\n",
       "    }\n",
       "</style>\n",
       "<table border=\"1\" class=\"dataframe\">\n",
       "  <thead>\n",
       "    <tr>\n",
       "      <th></th>\n",
       "      <th></th>\n",
       "      <th colspan=\"2\" halign=\"left\">balanced_accuracy</th>\n",
       "    </tr>\n",
       "    <tr>\n",
       "      <th></th>\n",
       "      <th></th>\n",
       "      <th>mean</th>\n",
       "      <th>std</th>\n",
       "    </tr>\n",
       "    <tr>\n",
       "      <th>evaluation_mode</th>\n",
       "      <th>use_scale_free_distribution</th>\n",
       "      <th></th>\n",
       "      <th></th>\n",
       "    </tr>\n",
       "  </thead>\n",
       "  <tbody>\n",
       "    <tr>\n",
       "      <th>test</th>\n",
       "      <th>False</th>\n",
       "      <td>0.769530</td>\n",
       "      <td>0.034467</td>\n",
       "    </tr>\n",
       "    <tr>\n",
       "      <th>train</th>\n",
       "      <th>False</th>\n",
       "      <td>0.907375</td>\n",
       "      <td>0.005696</td>\n",
       "    </tr>\n",
       "  </tbody>\n",
       "</table>\n",
       "</div>"
      ],
      "text/plain": [
       "                                            balanced_accuracy          \n",
       "                                                         mean       std\n",
       "evaluation_mode use_scale_free_distribution                            \n",
       "test            False                                0.769530  0.034467\n",
       "train           False                                0.907375  0.005696"
      ]
     },
     "execution_count": 7,
     "metadata": {},
     "output_type": "execute_result"
    }
   ],
   "source": [
    "results_degree.groupby([\n",
    "    \"evaluation_mode\",\n",
    "    \"use_scale_free_distribution\"\n",
    "]).agg([\"mean\", \"std\"])[[\"balanced_accuracy\"]]"
   ]
  },
  {
   "cell_type": "markdown",
   "id": "6a420360",
   "metadata": {},
   "source": [
    "<h2>Prediction on the basis of node degree (corrrected)</h2>\n",
    "<p>Here, we perform the same analysis as above, but sample edges in training or validation based on node degree.</p>"
   ]
  },
  {
   "cell_type": "code",
   "execution_count": 8,
   "id": "40459f51",
   "metadata": {},
   "outputs": [
    {
     "data": {
      "application/vnd.jupyter.widget-view+json": {
       "model_id": "",
       "version_major": 2,
       "version_minor": 0
      },
      "text/plain": [
       "Evaluating on SLDB:   0%|                                                                                     …"
      ]
     },
     "metadata": {},
     "output_type": "display_data"
    }
   ],
   "source": [
    "unbiased_results_degree = edge_prediction_evaluation(\n",
    "    holdouts_kwargs=dict(train_size=TRAIN_SIZE),\n",
    "    graphs=sldb,\n",
    "    number_of_holdouts=NUMBER_OF_HOLDOUTS,\n",
    "    models=PerceptronEdgePrediction(\n",
    "        edge_features=[\"Degree\"],\n",
    "        use_scale_free_distribution=True,\n",
    "        number_of_edges_per_mini_batch=16\n",
    "    ),\n",
    "    use_scale_free_distribution=True,\n",
    ")"
   ]
  },
  {
   "cell_type": "code",
   "execution_count": 9,
   "id": "5352438a",
   "metadata": {},
   "outputs": [
    {
     "data": {
      "text/html": [
       "<div>\n",
       "<style scoped>\n",
       "    .dataframe tbody tr th:only-of-type {\n",
       "        vertical-align: middle;\n",
       "    }\n",
       "\n",
       "    .dataframe tbody tr th {\n",
       "        vertical-align: top;\n",
       "    }\n",
       "\n",
       "    .dataframe thead tr th {\n",
       "        text-align: left;\n",
       "    }\n",
       "\n",
       "    .dataframe thead tr:last-of-type th {\n",
       "        text-align: right;\n",
       "    }\n",
       "</style>\n",
       "<table border=\"1\" class=\"dataframe\">\n",
       "  <thead>\n",
       "    <tr>\n",
       "      <th></th>\n",
       "      <th></th>\n",
       "      <th></th>\n",
       "      <th></th>\n",
       "      <th colspan=\"2\" halign=\"left\">auprc</th>\n",
       "      <th colspan=\"2\" halign=\"left\">auroc</th>\n",
       "      <th colspan=\"2\" halign=\"left\">balanced_accuracy</th>\n",
       "    </tr>\n",
       "    <tr>\n",
       "      <th></th>\n",
       "      <th></th>\n",
       "      <th></th>\n",
       "      <th></th>\n",
       "      <th>mean</th>\n",
       "      <th>std</th>\n",
       "      <th>mean</th>\n",
       "      <th>std</th>\n",
       "      <th>mean</th>\n",
       "      <th>std</th>\n",
       "    </tr>\n",
       "    <tr>\n",
       "      <th>model_name</th>\n",
       "      <th>evaluation_mode</th>\n",
       "      <th>use_scale_free_distribution</th>\n",
       "      <th>(model_parameters, edge_features)</th>\n",
       "      <th></th>\n",
       "      <th></th>\n",
       "      <th></th>\n",
       "      <th></th>\n",
       "      <th></th>\n",
       "      <th></th>\n",
       "    </tr>\n",
       "  </thead>\n",
       "  <tbody>\n",
       "    <tr>\n",
       "      <th rowspan=\"4\" valign=\"top\">Perceptron</th>\n",
       "      <th rowspan=\"2\" valign=\"top\">test</th>\n",
       "      <th>False</th>\n",
       "      <th>['Degree']</th>\n",
       "      <td>0.965572</td>\n",
       "      <td>0.005471</td>\n",
       "      <td>0.971129</td>\n",
       "      <td>0.004186</td>\n",
       "      <td>0.769530</td>\n",
       "      <td>0.034467</td>\n",
       "    </tr>\n",
       "    <tr>\n",
       "      <th>True</th>\n",
       "      <th>['Degree']</th>\n",
       "      <td>0.518813</td>\n",
       "      <td>0.022109</td>\n",
       "      <td>0.580134</td>\n",
       "      <td>0.026497</td>\n",
       "      <td>0.482004</td>\n",
       "      <td>0.011522</td>\n",
       "    </tr>\n",
       "    <tr>\n",
       "      <th rowspan=\"2\" valign=\"top\">train</th>\n",
       "      <th>False</th>\n",
       "      <th>['Degree']</th>\n",
       "      <td>0.983578</td>\n",
       "      <td>0.005078</td>\n",
       "      <td>0.989182</td>\n",
       "      <td>0.001386</td>\n",
       "      <td>0.907375</td>\n",
       "      <td>0.005696</td>\n",
       "    </tr>\n",
       "    <tr>\n",
       "      <th>True</th>\n",
       "      <th>['Degree']</th>\n",
       "      <td>0.644411</td>\n",
       "      <td>0.009288</td>\n",
       "      <td>0.721217</td>\n",
       "      <td>0.006918</td>\n",
       "      <td>0.601840</td>\n",
       "      <td>0.038044</td>\n",
       "    </tr>\n",
       "  </tbody>\n",
       "</table>\n",
       "</div>"
      ],
      "text/plain": [
       "                                                                                             auprc  \\\n",
       "                                                                                              mean   \n",
       "model_name evaluation_mode use_scale_free_distribution (model_parameters, edge_features)             \n",
       "Perceptron test            False                       ['Degree']                         0.965572   \n",
       "                           True                        ['Degree']                         0.518813   \n",
       "           train           False                       ['Degree']                         0.983578   \n",
       "                           True                        ['Degree']                         0.644411   \n",
       "\n",
       "                                                                                                    \\\n",
       "                                                                                               std   \n",
       "model_name evaluation_mode use_scale_free_distribution (model_parameters, edge_features)             \n",
       "Perceptron test            False                       ['Degree']                         0.005471   \n",
       "                           True                        ['Degree']                         0.022109   \n",
       "           train           False                       ['Degree']                         0.005078   \n",
       "                           True                        ['Degree']                         0.009288   \n",
       "\n",
       "                                                                                             auroc  \\\n",
       "                                                                                              mean   \n",
       "model_name evaluation_mode use_scale_free_distribution (model_parameters, edge_features)             \n",
       "Perceptron test            False                       ['Degree']                         0.971129   \n",
       "                           True                        ['Degree']                         0.580134   \n",
       "           train           False                       ['Degree']                         0.989182   \n",
       "                           True                        ['Degree']                         0.721217   \n",
       "\n",
       "                                                                                                    \\\n",
       "                                                                                               std   \n",
       "model_name evaluation_mode use_scale_free_distribution (model_parameters, edge_features)             \n",
       "Perceptron test            False                       ['Degree']                         0.004186   \n",
       "                           True                        ['Degree']                         0.026497   \n",
       "           train           False                       ['Degree']                         0.001386   \n",
       "                           True                        ['Degree']                         0.006918   \n",
       "\n",
       "                                                                                         balanced_accuracy  \\\n",
       "                                                                                                      mean   \n",
       "model_name evaluation_mode use_scale_free_distribution (model_parameters, edge_features)                     \n",
       "Perceptron test            False                       ['Degree']                                 0.769530   \n",
       "                           True                        ['Degree']                                 0.482004   \n",
       "           train           False                       ['Degree']                                 0.907375   \n",
       "                           True                        ['Degree']                                 0.601840   \n",
       "\n",
       "                                                                                                    \n",
       "                                                                                               std  \n",
       "model_name evaluation_mode use_scale_free_distribution (model_parameters, edge_features)            \n",
       "Perceptron test            False                       ['Degree']                         0.034467  \n",
       "                           True                        ['Degree']                         0.011522  \n",
       "           train           False                       ['Degree']                         0.005696  \n",
       "                           True                        ['Degree']                         0.038044  "
      ]
     },
     "execution_count": 9,
     "metadata": {},
     "output_type": "execute_result"
    }
   ],
   "source": [
    "pd.concat([\n",
    "    results_degree,\n",
    "    unbiased_results_degree\n",
    "]).groupby([\n",
    "    \"model_name\",\n",
    "    \"evaluation_mode\",\n",
    "    \"use_scale_free_distribution\",\n",
    "    (\"model_parameters\", \"edge_features\")\n",
    "]).agg([\"mean\", \"std\"])[[\"auprc\", \"auroc\", \"balanced_accuracy\"]]"
   ]
  },
  {
   "cell_type": "code",
   "execution_count": 10,
   "id": "cd7ef7d5",
   "metadata": {},
   "outputs": [],
   "source": [
    "def perform_edge_prediction_with_perceptron(edge_features:str, use_node_based_distribution: bool):\n",
    "    if not edge_features in {\"AdamicAdar\", \"JaccardCoefficient\", \"Degree\"}:\n",
    "        raise ValueException(f\"Did not recognize edge feature type {edge_features}\")\n",
    "    results = edge_prediction_evaluation(\n",
    "        holdouts_kwargs=dict(train_size=TRAIN_SIZE,\n",
    "                         edge_types=[\"SLI\"]),    \n",
    "        graphs=composite_graph,\n",
    "        number_of_holdouts=NUMBER_OF_HOLDOUTS,\n",
    "        models=PerceptronEdgePrediction(\n",
    "            edge_features=[edge_features],\n",
    "            use_scale_free_distribution=use_node_based_distribution),\n",
    "        use_scale_free_distribution=use_node_based_distribution,\n",
    "        subgraph_of_interest=sli_subgraph\n",
    "        )\n",
    "    return get_dict_with_values(results, edge_features, use_node_based_distribution)"
   ]
  },
  {
   "cell_type": "markdown",
   "id": "c1b05ce8",
   "metadata": {},
   "source": [
    "<h3>Adamic Adar</h3>\n",
    "<p>Here, instead of using the degree as an edge feature, we use the <a href=\"https://en.wikipedia.org/wiki/Adamic%E2%80%93Adar_index\" target=__blank>Adamic-Adar index</a>, which is defined as the sum of the inverse logarithmic degree centrality of the neighbours shared by the two nodes. The next two cells are with and without sampling by degree distribution (as above).</p>"
   ]
  },
  {
   "cell_type": "code",
   "execution_count": 11,
   "id": "882223fa",
   "metadata": {},
   "outputs": [
    {
     "data": {
      "application/vnd.jupyter.widget-view+json": {
       "model_id": "",
       "version_major": 2,
       "version_minor": 0
      },
      "text/plain": [
       "Evaluating on (SLDB | HomoSapiens):   0%|                                                                     …"
      ]
     },
     "metadata": {},
     "output_type": "display_data"
    },
    {
     "data": {
      "application/vnd.jupyter.widget-view+json": {
       "model_id": "",
       "version_major": 2,
       "version_minor": 0
      },
      "text/plain": [
       "Evaluating on (SLDB | HomoSapiens):   0%|                                                                     …"
      ]
     },
     "metadata": {},
     "output_type": "display_data"
    }
   ],
   "source": [
    "results_list = []\n",
    "results_list.append(perform_edge_prediction_with_perceptron(\"AdamicAdar\", False))\n",
    "results_list.append(perform_edge_prediction_with_perceptron(\"AdamicAdar\", True))"
   ]
  },
  {
   "cell_type": "markdown",
   "id": "6940def4",
   "metadata": {},
   "source": [
    "<h3>Jaccard similarity coefficient</h3>\n",
    "<p>The next two cells are analogous, but use the <a href=\"https://en.wikipedia.org/wiki/Jaccard_index\" target=__blank>Jaccard similarity coefficient</a>, defined as the ratio of Intersection over Union of neighbors of the two nodes that define an edge.</p>"
   ]
  },
  {
   "cell_type": "code",
   "execution_count": 12,
   "id": "520808f3",
   "metadata": {},
   "outputs": [
    {
     "data": {
      "application/vnd.jupyter.widget-view+json": {
       "model_id": "",
       "version_major": 2,
       "version_minor": 0
      },
      "text/plain": [
       "Evaluating on (SLDB | HomoSapiens):   0%|                                                                     …"
      ]
     },
     "metadata": {},
     "output_type": "display_data"
    },
    {
     "data": {
      "application/vnd.jupyter.widget-view+json": {
       "model_id": "",
       "version_major": 2,
       "version_minor": 0
      },
      "text/plain": [
       "Evaluating on (SLDB | HomoSapiens):   0%|                                                                     …"
      ]
     },
     "metadata": {},
     "output_type": "display_data"
    }
   ],
   "source": [
    "results_list.append(perform_edge_prediction_with_perceptron(\"JaccardCoefficient\", False))\n",
    "results_list.append(perform_edge_prediction_with_perceptron(\"JaccardCoefficient\", True))"
   ]
  },
  {
   "cell_type": "markdown",
   "id": "a213bbc7",
   "metadata": {},
   "source": [
    "<h2>Node degree</h2>\n",
    "<p>Finally, add the results for node degree.</p>"
   ]
  },
  {
   "cell_type": "code",
   "execution_count": 13,
   "id": "7464c90a",
   "metadata": {},
   "outputs": [
    {
     "data": {
      "application/vnd.jupyter.widget-view+json": {
       "model_id": "",
       "version_major": 2,
       "version_minor": 0
      },
      "text/plain": [
       "Evaluating on (SLDB | HomoSapiens):   0%|                                                                     …"
      ]
     },
     "metadata": {},
     "output_type": "display_data"
    },
    {
     "data": {
      "application/vnd.jupyter.widget-view+json": {
       "model_id": "",
       "version_major": 2,
       "version_minor": 0
      },
      "text/plain": [
       "Evaluating on (SLDB | HomoSapiens):   0%|                                                                     …"
      ]
     },
     "metadata": {},
     "output_type": "display_data"
    }
   ],
   "source": [
    "results_list.append(perform_edge_prediction_with_perceptron(\"Degree\", False))\n",
    "results_list.append(perform_edge_prediction_with_perceptron(\"Degree\", True))"
   ]
  },
  {
   "cell_type": "markdown",
   "id": "a1e623ab",
   "metadata": {},
   "source": [
    "<h2>Summary</h2>"
   ]
  },
  {
   "cell_type": "code",
   "execution_count": 14,
   "id": "d6fa6017",
   "metadata": {},
   "outputs": [
    {
     "data": {
      "text/html": [
       "<div>\n",
       "<style scoped>\n",
       "    .dataframe tbody tr th:only-of-type {\n",
       "        vertical-align: middle;\n",
       "    }\n",
       "\n",
       "    .dataframe tbody tr th {\n",
       "        vertical-align: top;\n",
       "    }\n",
       "\n",
       "    .dataframe thead th {\n",
       "        text-align: right;\n",
       "    }\n",
       "</style>\n",
       "<table border=\"1\" class=\"dataframe\">\n",
       "  <thead>\n",
       "    <tr style=\"text-align: right;\">\n",
       "      <th></th>\n",
       "      <th>name</th>\n",
       "      <th>test.mean</th>\n",
       "      <th>test.std</th>\n",
       "      <th>train.mean</th>\n",
       "      <th>train.std</th>\n",
       "      <th>normalized</th>\n",
       "      <th>train_size</th>\n",
       "      <th>holdouts</th>\n",
       "    </tr>\n",
       "  </thead>\n",
       "  <tbody>\n",
       "    <tr>\n",
       "      <th>0</th>\n",
       "      <td>AdamicAdar</td>\n",
       "      <td>0.148875</td>\n",
       "      <td>0.009423</td>\n",
       "      <td>0.169197</td>\n",
       "      <td>0.003590</td>\n",
       "      <td>False</td>\n",
       "      <td>0.8</td>\n",
       "      <td>10</td>\n",
       "    </tr>\n",
       "    <tr>\n",
       "      <th>1</th>\n",
       "      <td>AdamicAdar</td>\n",
       "      <td>0.355521</td>\n",
       "      <td>0.011954</td>\n",
       "      <td>0.377786</td>\n",
       "      <td>0.003913</td>\n",
       "      <td>True</td>\n",
       "      <td>0.8</td>\n",
       "      <td>10</td>\n",
       "    </tr>\n",
       "    <tr>\n",
       "      <th>2</th>\n",
       "      <td>JaccardCoefficient</td>\n",
       "      <td>0.500000</td>\n",
       "      <td>0.000000</td>\n",
       "      <td>0.500000</td>\n",
       "      <td>0.000000</td>\n",
       "      <td>False</td>\n",
       "      <td>0.8</td>\n",
       "      <td>10</td>\n",
       "    </tr>\n",
       "    <tr>\n",
       "      <th>3</th>\n",
       "      <td>JaccardCoefficient</td>\n",
       "      <td>0.500000</td>\n",
       "      <td>0.000000</td>\n",
       "      <td>0.500000</td>\n",
       "      <td>0.000000</td>\n",
       "      <td>True</td>\n",
       "      <td>0.8</td>\n",
       "      <td>10</td>\n",
       "    </tr>\n",
       "    <tr>\n",
       "      <th>4</th>\n",
       "      <td>Degree</td>\n",
       "      <td>0.550716</td>\n",
       "      <td>0.003549</td>\n",
       "      <td>0.554064</td>\n",
       "      <td>0.000898</td>\n",
       "      <td>False</td>\n",
       "      <td>0.8</td>\n",
       "      <td>10</td>\n",
       "    </tr>\n",
       "    <tr>\n",
       "      <th>5</th>\n",
       "      <td>Degree</td>\n",
       "      <td>0.501534</td>\n",
       "      <td>0.000994</td>\n",
       "      <td>0.501176</td>\n",
       "      <td>0.000329</td>\n",
       "      <td>True</td>\n",
       "      <td>0.8</td>\n",
       "      <td>10</td>\n",
       "    </tr>\n",
       "  </tbody>\n",
       "</table>\n",
       "</div>"
      ],
      "text/plain": [
       "                 name  test.mean  test.std  train.mean  train.std normalized  \\\n",
       "0          AdamicAdar   0.148875  0.009423    0.169197   0.003590      False   \n",
       "1          AdamicAdar   0.355521  0.011954    0.377786   0.003913       True   \n",
       "2  JaccardCoefficient   0.500000  0.000000    0.500000   0.000000      False   \n",
       "3  JaccardCoefficient   0.500000  0.000000    0.500000   0.000000       True   \n",
       "4              Degree   0.550716  0.003549    0.554064   0.000898      False   \n",
       "5              Degree   0.501534  0.000994    0.501176   0.000329       True   \n",
       "\n",
       "   train_size  holdouts  \n",
       "0         0.8        10  \n",
       "1         0.8        10  \n",
       "2         0.8        10  \n",
       "3         0.8        10  \n",
       "4         0.8        10  \n",
       "5         0.8        10  "
      ]
     },
     "execution_count": 14,
     "metadata": {},
     "output_type": "execute_result"
    }
   ],
   "source": [
    "df = pd.DataFrame.from_dict(results_list)\n",
    "df.set_index('name');\n",
    "df.head(20)"
   ]
  },
  {
   "cell_type": "code",
   "execution_count": null,
   "id": "59514825",
   "metadata": {},
   "outputs": [],
   "source": []
  }
 ],
 "metadata": {
  "kernelspec": {
   "display_name": "venv",
   "language": "python",
   "name": "venv"
  },
  "language_info": {
   "codemirror_mode": {
    "name": "ipython",
    "version": 3
   },
   "file_extension": ".py",
   "mimetype": "text/x-python",
   "name": "python",
   "nbconvert_exporter": "python",
   "pygments_lexer": "ipython3",
   "version": "3.10.6"
  }
 },
 "nbformat": 4,
 "nbformat_minor": 5
}
