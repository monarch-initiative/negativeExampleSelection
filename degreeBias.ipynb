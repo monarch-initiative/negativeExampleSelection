{
 "cells": [
  {
   "cell_type": "markdown",
   "id": "1617ed97",
   "metadata": {},
   "source": [
    "<h1>Synthetic Lethality Interaction Network Bias</h1>\n",
    "\n",
    "<p>The purpose of this notebook is to demonstrate the influence of node degree on the performance of graph machine learning. We use the same graph that was presented in the notebook\n",
    "    <a href=\"https://github.com/monarch-initiative/negativeExampleSelection/blob/main/SliNetwork.ipynb\" target=\"__blank\">SliNetwork</a>.</p>"
   ]
  },
  {
   "cell_type": "code",
   "execution_count": 1,
   "id": "50e07ed0",
   "metadata": {},
   "outputs": [],
   "source": [
    "from grape.datasets.kghub import SLDB\n",
    "from grape.datasets.string import HomoSapiens\n",
    "import pandas as pd\n",
    "from tqdm.auto import tqdm\n",
    "from grape.embedders import embed_graph, DeepWalkSkipGramEnsmallen, Node2VecSkipGramEnsmallen, Node2VecCBOWEnsmallen, Node2VecGloVeEnsmallen\n",
    "from grape import GraphVisualizer\n",
    "from grape.edge_prediction import (\n",
    "    DecisionTreeEdgePrediction,\n",
    "    edge_prediction_evaluation,\n",
    "    PerceptronEdgePrediction,\n",
    "    KipfGCNEdgePrediction,\n",
    "    RandomForestEdgePrediction,\n",
    ")\n",
    "import pandas as pd\n",
    "from collections import Counter\n",
    "from operator import itemgetter\n",
    "from tqdm.auto import tqdm, trange\n",
    "from typing import List, Generator, Optional\n",
    "import matplotlib.pyplot as plt\n",
    "from matplotlib.axes import Axes\n",
    "from matplotlib.figure import Figure\n",
    "from IPython.display import HTML\n",
    "import warnings\n",
    "warnings.filterwarnings('ignore')"
   ]
  },
  {
   "cell_type": "code",
   "execution_count": 2,
   "id": "7d91d21f",
   "metadata": {},
   "outputs": [
    {
     "name": "stdout",
     "output_type": "stream",
     "text": [
      "CPU times: user 24.1 s, sys: 2.34 s, total: 26.4 s\n",
      "Wall time: 11.6 s\n"
     ]
    }
   ],
   "source": [
    "%%time\n",
    "sldb = SLDB()\n",
    "stringGraph = HomoSapiens()\n",
    "path = \"graphs/string/HomoSapiens/links.v11.5/9606.protein.info.v11.5.txt\"\n",
    "data = pd.read_csv(path, sep=\"\\t\")\n",
    "remapping_string = dict(zip(data[data.columns[0]], data[data.columns[1]]))\n",
    "string_graph = stringGraph \\\n",
    "    .remove_node_types() \\\n",
    "    .filter_from_names(min_edge_weight=700) \\\n",
    "    .remove_edge_weights() \\\n",
    "    .remap_from_node_names_map(remapping_string) \\\n",
    "    .set_all_node_types(\"Gene\") \\\n",
    "    .set_all_edge_types(\"PPI\") \\\n",
    "    .remove_disconnected_nodes()\n",
    "path = \"graphs/kghub/SLDB/20220522/sldb/merged-kg_nodes.tsv\"\n",
    "data = pd.read_csv(path, sep=\"\\t\")\n",
    "remapping_sli = dict(zip(data[data.columns[0]], data[data.columns[2]]))\n",
    "\n",
    "# We load the SLI graph\n",
    "sli_graph = SLDB() \\\n",
    "    .remap_from_node_names_map(remapping_sli) \\\n",
    "    .set_all_node_types(\"Gene\") \\\n",
    "    .set_all_edge_types(\"SLI\")\n",
    "composite_graph = (sli_graph | string_graph) \\\n",
    "    .remove_components(top_k_components=1)\n",
    "\n",
    "composite_graph.enable()\n",
    "\n",
    "sli_subgraph = composite_graph.filter_from_names(\n",
    "    edge_type_names_to_keep=[\"SLI\"]\n",
    ")\n",
    "sli_subgraph.enable()"
   ]
  },
  {
   "cell_type": "markdown",
   "id": "081ca572",
   "metadata": {},
   "source": [
    "<h2>Differential degree distribution of genes with  SLIs</h2>\n",
    "<p>As could be seen in the SliNetwork notebook, the SLI subnetwork displays a scale-free distribution. We show here that the nodes of the SLI network differ in the mean degree compared to other nodes in the network.</p>"
   ]
  },
  {
   "cell_type": "code",
   "execution_count": 3,
   "id": "2c649dc4",
   "metadata": {},
   "outputs": [
    {
     "name": "stdout",
     "output_type": "stream",
     "text": [
      "Mean degree of genes in SLI set: 71 and genes not in SLI set 25\n"
     ]
    }
   ],
   "source": [
    "from statistics import mean\n",
    "node_labels = composite_graph.get_node_names()\n",
    "node_degrees = composite_graph.get_node_degrees()\n",
    "node_degree_d = dict(zip(node_labels, node_degrees))\n",
    "sli_label_set = set(sli_graph.get_node_names())\n",
    "mean_sli_degree = mean([degree for gene, degree in node_degree_d.items() if gene in sli_label_set])\n",
    "mean_nonsli_degree = mean([degree for gene, degree in node_degree_d.items() if gene not in sli_label_set])\n",
    "print(f\"Mean degree of genes in SLI set: {mean_sli_degree} and genes not in SLI set {mean_nonsli_degree}\")"
   ]
  },
  {
   "cell_type": "code",
   "execution_count": 4,
   "id": "2ddacef1",
   "metadata": {},
   "outputs": [],
   "source": [
    "results_list = []"
   ]
  },
  {
   "cell_type": "markdown",
   "id": "1f55c2fa",
   "metadata": {},
   "source": [
    "<p>In the following, we show that classifiers can exploit this difference to make predictions based solely on node degree.</p>"
   ]
  },
  {
   "cell_type": "code",
   "execution_count": 5,
   "id": "46a872af",
   "metadata": {},
   "outputs": [],
   "source": [
    "def get_dict_with_values(df, name, normalized):\n",
    "    \"\"\"\n",
    "    convenience function to group results in a dictionary\n",
    "    \"\"\"\n",
    "    results = df.groupby(['evaluation_mode',]).agg(['mean','std'])[['balanced_accuracy']]\n",
    "    test_results = results.loc['test'].values\n",
    "    train_results = results.loc['train'].values\n",
    "    d = {'name': name, 'test.mean' : test_results[0], 'test.std': test_results[1], \n",
    "       'train.mean' : train_results[0], 'train.std': train_results[1]}\n",
    "    if normalized:\n",
    "        d['normalized'] = \"True\"\n",
    "    else:\n",
    "        d['normalized'] = \"False\"\n",
    "    return d"
   ]
  },
  {
   "cell_type": "markdown",
   "id": "1753e372",
   "metadata": {},
   "source": [
    "<h2>Prediction on the basis of node degree</h2>\n",
    "<p>Here we show that a simple perceptron is able to achieve a reasonable prediction accuracy in a  cross-validation setting in which we do not sample edges in training or validation based on node degree. This analysis is intended to demonstrate the potential for overfitting based on node degree.</p>"
   ]
  },
  {
   "cell_type": "code",
   "execution_count": 6,
   "id": "51d3246e",
   "metadata": {},
   "outputs": [
    {
     "data": {
      "application/vnd.jupyter.widget-view+json": {
       "model_id": "",
       "version_major": 2,
       "version_minor": 0
      },
      "text/plain": [
       "Evaluating on SLDB:   0%|                                | 0/10 [00:00<?, ?it/s]"
      ]
     },
     "metadata": {},
     "output_type": "display_data"
    }
   ],
   "source": [
    "results_degree = edge_prediction_evaluation(\n",
    "    holdouts_kwargs=dict(train_size=0.80),\n",
    "    graphs=sldb,\n",
    "    number_of_holdouts=10,\n",
    "    models=PerceptronEdgePrediction(\n",
    "        edge_features=[\"Degree\"],\n",
    "        use_scale_free_distribution=False,\n",
    "        number_of_edges_per_mini_batch=16\n",
    "    ),\n",
    "    use_scale_free_distribution=False,\n",
    ")"
   ]
  },
  {
   "cell_type": "code",
   "execution_count": 7,
   "id": "fb7814f2",
   "metadata": {},
   "outputs": [
    {
     "data": {
      "text/html": [
       "<div>\n",
       "<style scoped>\n",
       "    .dataframe tbody tr th:only-of-type {\n",
       "        vertical-align: middle;\n",
       "    }\n",
       "\n",
       "    .dataframe tbody tr th {\n",
       "        vertical-align: top;\n",
       "    }\n",
       "\n",
       "    .dataframe thead tr th {\n",
       "        text-align: left;\n",
       "    }\n",
       "\n",
       "    .dataframe thead tr:last-of-type th {\n",
       "        text-align: right;\n",
       "    }\n",
       "</style>\n",
       "<table border=\"1\" class=\"dataframe\">\n",
       "  <thead>\n",
       "    <tr>\n",
       "      <th></th>\n",
       "      <th></th>\n",
       "      <th colspan=\"2\" halign=\"left\">balanced_accuracy</th>\n",
       "    </tr>\n",
       "    <tr>\n",
       "      <th></th>\n",
       "      <th></th>\n",
       "      <th>mean</th>\n",
       "      <th>std</th>\n",
       "    </tr>\n",
       "    <tr>\n",
       "      <th>evaluation_mode</th>\n",
       "      <th>use_scale_free_distribution</th>\n",
       "      <th></th>\n",
       "      <th></th>\n",
       "    </tr>\n",
       "  </thead>\n",
       "  <tbody>\n",
       "    <tr>\n",
       "      <th>test</th>\n",
       "      <th>False</th>\n",
       "      <td>0.770041</td>\n",
       "      <td>0.034245</td>\n",
       "    </tr>\n",
       "    <tr>\n",
       "      <th>train</th>\n",
       "      <th>False</th>\n",
       "      <td>0.907720</td>\n",
       "      <td>0.005235</td>\n",
       "    </tr>\n",
       "  </tbody>\n",
       "</table>\n",
       "</div>"
      ],
      "text/plain": [
       "                                            balanced_accuracy          \n",
       "                                                         mean       std\n",
       "evaluation_mode use_scale_free_distribution                            \n",
       "test            False                                0.770041  0.034245\n",
       "train           False                                0.907720  0.005235"
      ]
     },
     "execution_count": 7,
     "metadata": {},
     "output_type": "execute_result"
    }
   ],
   "source": [
    "results_degree.groupby([\n",
    "    \"evaluation_mode\",\n",
    "    \"use_scale_free_distribution\"\n",
    "]).agg([\"mean\", \"std\"])[[\"balanced_accuracy\"]]"
   ]
  },
  {
   "cell_type": "markdown",
   "id": "6a420360",
   "metadata": {},
   "source": [
    "<h2>Prediction on the basis of node degree (corrrected)</h2>\n",
    "<p>Here, we perform the same analysis as above, but sample edges in training or validation based on node degree.</p>"
   ]
  },
  {
   "cell_type": "code",
   "execution_count": 8,
   "id": "40459f51",
   "metadata": {},
   "outputs": [
    {
     "data": {
      "application/vnd.jupyter.widget-view+json": {
       "model_id": "",
       "version_major": 2,
       "version_minor": 0
      },
      "text/plain": [
       "Evaluating on SLDB:   0%|                                | 0/10 [00:00<?, ?it/s]"
      ]
     },
     "metadata": {},
     "output_type": "display_data"
    }
   ],
   "source": [
    "unbiased_results_degree = edge_prediction_evaluation(\n",
    "    holdouts_kwargs=dict(train_size=0.80),\n",
    "    graphs=sldb,\n",
    "    number_of_holdouts=10,\n",
    "    models=PerceptronEdgePrediction(\n",
    "        edge_features=[\"Degree\"],\n",
    "        use_scale_free_distribution=True,\n",
    "        number_of_edges_per_mini_batch=16\n",
    "    ),\n",
    "    use_scale_free_distribution=True,\n",
    ")"
   ]
  },
  {
   "cell_type": "code",
   "execution_count": 9,
   "id": "5352438a",
   "metadata": {},
   "outputs": [
    {
     "ename": "KeyError",
     "evalue": "('Model', 'edge_features')",
     "output_type": "error",
     "traceback": [
      "\u001b[0;31m---------------------------------------------------------------------------\u001b[0m",
      "\u001b[0;31mKeyError\u001b[0m                                  Traceback (most recent call last)",
      "Cell \u001b[0;32mIn [9], line 4\u001b[0m\n\u001b[1;32m      1\u001b[0m \u001b[43mpd\u001b[49m\u001b[38;5;241;43m.\u001b[39;49m\u001b[43mconcat\u001b[49m\u001b[43m(\u001b[49m\u001b[43m[\u001b[49m\n\u001b[1;32m      2\u001b[0m \u001b[43m    \u001b[49m\u001b[43mresults_degree\u001b[49m\u001b[43m,\u001b[49m\n\u001b[1;32m      3\u001b[0m \u001b[43m    \u001b[49m\u001b[43munbiased_results_degree\u001b[49m\n\u001b[0;32m----> 4\u001b[0m \u001b[43m]\u001b[49m\u001b[43m)\u001b[49m\u001b[38;5;241;43m.\u001b[39;49m\u001b[43mgroupby\u001b[49m\u001b[43m(\u001b[49m\u001b[43m[\u001b[49m\n\u001b[1;32m      5\u001b[0m \u001b[43m    \u001b[49m\u001b[38;5;124;43m\"\u001b[39;49m\u001b[38;5;124;43mmodel_name\u001b[39;49m\u001b[38;5;124;43m\"\u001b[39;49m\u001b[43m,\u001b[49m\n\u001b[1;32m      6\u001b[0m \u001b[43m    \u001b[49m\u001b[38;5;124;43m\"\u001b[39;49m\u001b[38;5;124;43mevaluation_mode\u001b[39;49m\u001b[38;5;124;43m\"\u001b[39;49m\u001b[43m,\u001b[49m\n\u001b[1;32m      7\u001b[0m \u001b[43m    \u001b[49m\u001b[38;5;124;43m\"\u001b[39;49m\u001b[38;5;124;43muse_scale_free_distribution\u001b[39;49m\u001b[38;5;124;43m\"\u001b[39;49m\u001b[43m,\u001b[49m\n\u001b[1;32m      8\u001b[0m \u001b[43m    \u001b[49m\u001b[43m(\u001b[49m\u001b[38;5;124;43m\"\u001b[39;49m\u001b[38;5;124;43mModel\u001b[39;49m\u001b[38;5;124;43m\"\u001b[39;49m\u001b[43m,\u001b[49m\u001b[43m \u001b[49m\u001b[38;5;124;43m\"\u001b[39;49m\u001b[38;5;124;43medge_features\u001b[39;49m\u001b[38;5;124;43m\"\u001b[39;49m\u001b[43m)\u001b[49m\n\u001b[1;32m      9\u001b[0m \u001b[43m]\u001b[49m\u001b[43m)\u001b[49m\u001b[38;5;241m.\u001b[39magg([\u001b[38;5;124m\"\u001b[39m\u001b[38;5;124mmean\u001b[39m\u001b[38;5;124m\"\u001b[39m, \u001b[38;5;124m\"\u001b[39m\u001b[38;5;124mstd\u001b[39m\u001b[38;5;124m\"\u001b[39m])[[\u001b[38;5;124m\"\u001b[39m\u001b[38;5;124mauprc\u001b[39m\u001b[38;5;124m\"\u001b[39m, \u001b[38;5;124m\"\u001b[39m\u001b[38;5;124mauroc\u001b[39m\u001b[38;5;124m\"\u001b[39m, \u001b[38;5;124m\"\u001b[39m\u001b[38;5;124mbalanced_accuracy\u001b[39m\u001b[38;5;124m\"\u001b[39m]]\n",
      "File \u001b[0;32m~/GIT/negativeExampleSelection/venv/lib/python3.10/site-packages/pandas/core/frame.py:8389\u001b[0m, in \u001b[0;36mDataFrame.groupby\u001b[0;34m(self, by, axis, level, as_index, sort, group_keys, squeeze, observed, dropna)\u001b[0m\n\u001b[1;32m   8386\u001b[0m     \u001b[38;5;28;01mraise\u001b[39;00m \u001b[38;5;167;01mTypeError\u001b[39;00m(\u001b[38;5;124m\"\u001b[39m\u001b[38;5;124mYou have to supply one of \u001b[39m\u001b[38;5;124m'\u001b[39m\u001b[38;5;124mby\u001b[39m\u001b[38;5;124m'\u001b[39m\u001b[38;5;124m and \u001b[39m\u001b[38;5;124m'\u001b[39m\u001b[38;5;124mlevel\u001b[39m\u001b[38;5;124m'\u001b[39m\u001b[38;5;124m\"\u001b[39m)\n\u001b[1;32m   8387\u001b[0m axis \u001b[38;5;241m=\u001b[39m \u001b[38;5;28mself\u001b[39m\u001b[38;5;241m.\u001b[39m_get_axis_number(axis)\n\u001b[0;32m-> 8389\u001b[0m \u001b[38;5;28;01mreturn\u001b[39;00m \u001b[43mDataFrameGroupBy\u001b[49m\u001b[43m(\u001b[49m\n\u001b[1;32m   8390\u001b[0m \u001b[43m    \u001b[49m\u001b[43mobj\u001b[49m\u001b[38;5;241;43m=\u001b[39;49m\u001b[38;5;28;43mself\u001b[39;49m\u001b[43m,\u001b[49m\n\u001b[1;32m   8391\u001b[0m \u001b[43m    \u001b[49m\u001b[43mkeys\u001b[49m\u001b[38;5;241;43m=\u001b[39;49m\u001b[43mby\u001b[49m\u001b[43m,\u001b[49m\n\u001b[1;32m   8392\u001b[0m \u001b[43m    \u001b[49m\u001b[43maxis\u001b[49m\u001b[38;5;241;43m=\u001b[39;49m\u001b[43maxis\u001b[49m\u001b[43m,\u001b[49m\n\u001b[1;32m   8393\u001b[0m \u001b[43m    \u001b[49m\u001b[43mlevel\u001b[49m\u001b[38;5;241;43m=\u001b[39;49m\u001b[43mlevel\u001b[49m\u001b[43m,\u001b[49m\n\u001b[1;32m   8394\u001b[0m \u001b[43m    \u001b[49m\u001b[43mas_index\u001b[49m\u001b[38;5;241;43m=\u001b[39;49m\u001b[43mas_index\u001b[49m\u001b[43m,\u001b[49m\n\u001b[1;32m   8395\u001b[0m \u001b[43m    \u001b[49m\u001b[43msort\u001b[49m\u001b[38;5;241;43m=\u001b[39;49m\u001b[43msort\u001b[49m\u001b[43m,\u001b[49m\n\u001b[1;32m   8396\u001b[0m \u001b[43m    \u001b[49m\u001b[43mgroup_keys\u001b[49m\u001b[38;5;241;43m=\u001b[39;49m\u001b[43mgroup_keys\u001b[49m\u001b[43m,\u001b[49m\n\u001b[1;32m   8397\u001b[0m \u001b[43m    \u001b[49m\u001b[43msqueeze\u001b[49m\u001b[38;5;241;43m=\u001b[39;49m\u001b[43msqueeze\u001b[49m\u001b[43m,\u001b[49m\n\u001b[1;32m   8398\u001b[0m \u001b[43m    \u001b[49m\u001b[43mobserved\u001b[49m\u001b[38;5;241;43m=\u001b[39;49m\u001b[43mobserved\u001b[49m\u001b[43m,\u001b[49m\n\u001b[1;32m   8399\u001b[0m \u001b[43m    \u001b[49m\u001b[43mdropna\u001b[49m\u001b[38;5;241;43m=\u001b[39;49m\u001b[43mdropna\u001b[49m\u001b[43m,\u001b[49m\n\u001b[1;32m   8400\u001b[0m \u001b[43m\u001b[49m\u001b[43m)\u001b[49m\n",
      "File \u001b[0;32m~/GIT/negativeExampleSelection/venv/lib/python3.10/site-packages/pandas/core/groupby/groupby.py:959\u001b[0m, in \u001b[0;36mGroupBy.__init__\u001b[0;34m(self, obj, keys, axis, level, grouper, exclusions, selection, as_index, sort, group_keys, squeeze, observed, mutated, dropna)\u001b[0m\n\u001b[1;32m    956\u001b[0m \u001b[38;5;28;01mif\u001b[39;00m grouper \u001b[38;5;129;01mis\u001b[39;00m \u001b[38;5;28;01mNone\u001b[39;00m:\n\u001b[1;32m    957\u001b[0m     \u001b[38;5;28;01mfrom\u001b[39;00m \u001b[38;5;21;01mpandas\u001b[39;00m\u001b[38;5;21;01m.\u001b[39;00m\u001b[38;5;21;01mcore\u001b[39;00m\u001b[38;5;21;01m.\u001b[39;00m\u001b[38;5;21;01mgroupby\u001b[39;00m\u001b[38;5;21;01m.\u001b[39;00m\u001b[38;5;21;01mgrouper\u001b[39;00m \u001b[38;5;28;01mimport\u001b[39;00m get_grouper\n\u001b[0;32m--> 959\u001b[0m     grouper, exclusions, obj \u001b[38;5;241m=\u001b[39m \u001b[43mget_grouper\u001b[49m\u001b[43m(\u001b[49m\n\u001b[1;32m    960\u001b[0m \u001b[43m        \u001b[49m\u001b[43mobj\u001b[49m\u001b[43m,\u001b[49m\n\u001b[1;32m    961\u001b[0m \u001b[43m        \u001b[49m\u001b[43mkeys\u001b[49m\u001b[43m,\u001b[49m\n\u001b[1;32m    962\u001b[0m \u001b[43m        \u001b[49m\u001b[43maxis\u001b[49m\u001b[38;5;241;43m=\u001b[39;49m\u001b[43maxis\u001b[49m\u001b[43m,\u001b[49m\n\u001b[1;32m    963\u001b[0m \u001b[43m        \u001b[49m\u001b[43mlevel\u001b[49m\u001b[38;5;241;43m=\u001b[39;49m\u001b[43mlevel\u001b[49m\u001b[43m,\u001b[49m\n\u001b[1;32m    964\u001b[0m \u001b[43m        \u001b[49m\u001b[43msort\u001b[49m\u001b[38;5;241;43m=\u001b[39;49m\u001b[43msort\u001b[49m\u001b[43m,\u001b[49m\n\u001b[1;32m    965\u001b[0m \u001b[43m        \u001b[49m\u001b[43mobserved\u001b[49m\u001b[38;5;241;43m=\u001b[39;49m\u001b[43mobserved\u001b[49m\u001b[43m,\u001b[49m\n\u001b[1;32m    966\u001b[0m \u001b[43m        \u001b[49m\u001b[43mmutated\u001b[49m\u001b[38;5;241;43m=\u001b[39;49m\u001b[38;5;28;43mself\u001b[39;49m\u001b[38;5;241;43m.\u001b[39;49m\u001b[43mmutated\u001b[49m\u001b[43m,\u001b[49m\n\u001b[1;32m    967\u001b[0m \u001b[43m        \u001b[49m\u001b[43mdropna\u001b[49m\u001b[38;5;241;43m=\u001b[39;49m\u001b[38;5;28;43mself\u001b[39;49m\u001b[38;5;241;43m.\u001b[39;49m\u001b[43mdropna\u001b[49m\u001b[43m,\u001b[49m\n\u001b[1;32m    968\u001b[0m \u001b[43m    \u001b[49m\u001b[43m)\u001b[49m\n\u001b[1;32m    970\u001b[0m \u001b[38;5;28mself\u001b[39m\u001b[38;5;241m.\u001b[39mobj \u001b[38;5;241m=\u001b[39m obj\n\u001b[1;32m    971\u001b[0m \u001b[38;5;28mself\u001b[39m\u001b[38;5;241m.\u001b[39maxis \u001b[38;5;241m=\u001b[39m obj\u001b[38;5;241m.\u001b[39m_get_axis_number(axis)\n",
      "File \u001b[0;32m~/GIT/negativeExampleSelection/venv/lib/python3.10/site-packages/pandas/core/groupby/grouper.py:888\u001b[0m, in \u001b[0;36mget_grouper\u001b[0;34m(obj, key, axis, level, sort, observed, mutated, validate, dropna)\u001b[0m\n\u001b[1;32m    886\u001b[0m         in_axis, level, gpr \u001b[38;5;241m=\u001b[39m \u001b[38;5;28;01mFalse\u001b[39;00m, gpr, \u001b[38;5;28;01mNone\u001b[39;00m\n\u001b[1;32m    887\u001b[0m     \u001b[38;5;28;01melse\u001b[39;00m:\n\u001b[0;32m--> 888\u001b[0m         \u001b[38;5;28;01mraise\u001b[39;00m \u001b[38;5;167;01mKeyError\u001b[39;00m(gpr)\n\u001b[1;32m    889\u001b[0m \u001b[38;5;28;01melif\u001b[39;00m \u001b[38;5;28misinstance\u001b[39m(gpr, Grouper) \u001b[38;5;129;01mand\u001b[39;00m gpr\u001b[38;5;241m.\u001b[39mkey \u001b[38;5;129;01mis\u001b[39;00m \u001b[38;5;129;01mnot\u001b[39;00m \u001b[38;5;28;01mNone\u001b[39;00m:\n\u001b[1;32m    890\u001b[0m     \u001b[38;5;66;03m# Add key to exclusions\u001b[39;00m\n\u001b[1;32m    891\u001b[0m     exclusions\u001b[38;5;241m.\u001b[39madd(gpr\u001b[38;5;241m.\u001b[39mkey)\n",
      "\u001b[0;31mKeyError\u001b[0m: ('Model', 'edge_features')"
     ]
    }
   ],
   "source": [
    "pd.concat([\n",
    "    results_degree,\n",
    "    unbiased_results_degree\n",
    "]).groupby([\n",
    "    \"model_name\",\n",
    "    \"evaluation_mode\",\n",
    "    \"use_scale_free_distribution\",\n",
    "    (\"Model\", \"edge_features\")\n",
    "]).agg([\"mean\", \"std\"])[[\"auprc\", \"auroc\", \"balanced_accuracy\"]]"
   ]
  },
  {
   "cell_type": "markdown",
   "id": "c1b05ce8",
   "metadata": {},
   "source": [
    "<h3>Adamic Adar</h3>\n",
    "<p>Here, instead of using the degree as an edge feature, we use the <a href=\"https://en.wikipedia.org/wiki/Adamic%E2%80%93Adar_index\" target=__blank>Adamic-Adar index</a>, which is defined as the sum of the inverse logarithmic degree centrality of the neighbours shared by the two nodes. The next two cells are with and without sampling by degree distribution (as above).</p>"
   ]
  },
  {
   "cell_type": "code",
   "execution_count": 24,
   "id": "d7e8be95",
   "metadata": {},
   "outputs": [
    {
     "data": {
      "application/vnd.jupyter.widget-view+json": {
       "model_id": "",
       "version_major": 2,
       "version_minor": 0
      },
      "text/plain": [
       "Evaluating on (SLDB | HomoSapiens):   0%|                | 0/10 [00:00<?, ?it/s]"
      ]
     },
     "metadata": {},
     "output_type": "display_data"
    }
   ],
   "source": [
    "results_adamic_unnormalized = edge_prediction_evaluation(\n",
    "    holdouts_kwargs=dict(train_size=0.7,edge_types=[\"SLI\"]),\n",
    "    graphs=composite_graph,\n",
    "    number_of_holdouts=10,\n",
    "    models=PerceptronEdgePrediction(\n",
    "        edge_features=[\"AdamicAdar\"],\n",
    "        use_scale_free_distribution=False),\n",
    "    use_scale_free_distribution=False,\n",
    "    subgraph_of_interest=sli_subgraph\n",
    ")\n",
    "\n",
    "d = get_dict_with_values(results_adamic_unnormalized, 'Adamic Adar', False)\n",
    "results_list.append(d)"
   ]
  },
  {
   "cell_type": "code",
   "execution_count": 25,
   "id": "882223fa",
   "metadata": {},
   "outputs": [
    {
     "data": {
      "application/vnd.jupyter.widget-view+json": {
       "model_id": "",
       "version_major": 2,
       "version_minor": 0
      },
      "text/plain": [
       "Evaluating on (SLDB | HomoSapiens):   0%|                | 0/10 [00:00<?, ?it/s]"
      ]
     },
     "metadata": {},
     "output_type": "display_data"
    }
   ],
   "source": [
    "results_adamic_normalized = edge_prediction_evaluation(\n",
    "    holdouts_kwargs=dict(train_size=0.7,edge_types=[\"SLI\"]),    \n",
    "    graphs=composite_graph,\n",
    "    number_of_holdouts=10,\n",
    "    models=PerceptronEdgePrediction(\n",
    "        edge_features=[\"AdamicAdar\"],\n",
    "        use_scale_free_distribution=True),\n",
    "    use_scale_free_distribution=True,\n",
    "    subgraph_of_interest=sli_subgraph\n",
    ")\n",
    "d = get_dict_with_values(results_adamic_normalized, 'Adamic Adar', True)\n",
    "results_list.append(d)"
   ]
  },
  {
   "cell_type": "markdown",
   "id": "6940def4",
   "metadata": {},
   "source": [
    "<h3>Jaccard similarity coefficient</h3>\n",
    "<p>The next two cells are analogous, but use the <a href=\"https://en.wikipedia.org/wiki/Jaccard_index\" target=__blank>Jaccard similarity coefficient</a>, defined as the ratio of Intersection over Union of neighbors of the two nodes that define an edge.</p>"
   ]
  },
  {
   "cell_type": "code",
   "execution_count": 12,
   "id": "520808f3",
   "metadata": {},
   "outputs": [
    {
     "data": {
      "application/vnd.jupyter.widget-view+json": {
       "model_id": "",
       "version_major": 2,
       "version_minor": 0
      },
      "text/plain": [
       "Evaluating on (SLDB | HomoSapiens):   0%|                | 0/10 [00:00<?, ?it/s]"
      ]
     },
     "metadata": {},
     "output_type": "display_data"
    }
   ],
   "source": [
    "results_jaccard = edge_prediction_evaluation(\n",
    "    holdouts_kwargs=dict(train_size=0.7,edge_types=[\"SLI\"]),  \n",
    "    graphs=composite_graph,\n",
    "    number_of_holdouts=10,\n",
    "    models=PerceptronEdgePrediction(\n",
    "        edge_features=[\"JaccardCoefficient\"],\n",
    "        use_scale_free_distribution=False),\n",
    "    use_scale_free_distribution=False,\n",
    "    subgraph_of_interest=sli_subgraph\n",
    ")\n",
    "d = get_dict_with_values(results_jaccard, 'Jaccard', False)\n",
    "results_list.append(d)"
   ]
  },
  {
   "cell_type": "code",
   "execution_count": 13,
   "id": "ca962248",
   "metadata": {},
   "outputs": [
    {
     "data": {
      "application/vnd.jupyter.widget-view+json": {
       "model_id": "",
       "version_major": 2,
       "version_minor": 0
      },
      "text/plain": [
       "Evaluating on (SLDB | HomoSapiens):   0%|                | 0/10 [00:00<?, ?it/s]"
      ]
     },
     "metadata": {},
     "output_type": "display_data"
    }
   ],
   "source": [
    "results_jaccard_normalized = edge_prediction_evaluation(\n",
    "    holdouts_kwargs=dict(train_size=0.7,edge_types=[\"SLI\"]),  \n",
    "    graphs=composite_graph,\n",
    "    number_of_holdouts=10,\n",
    "    models=PerceptronEdgePrediction(\n",
    "        edge_features=[\"JaccardCoefficient\"],\n",
    "        use_scale_free_distribution=True),\n",
    "    use_scale_free_distribution=True,\n",
    "     subgraph_of_interest=sli_subgraph\n",
    ")\n",
    "d = get_dict_with_values(results_jaccard_normalized, 'Jaccard', True)\n",
    "results_list.append(d)"
   ]
  },
  {
   "cell_type": "markdown",
   "id": "a1e623ab",
   "metadata": {},
   "source": [
    "<h2>Summary</h2>"
   ]
  },
  {
   "cell_type": "code",
   "execution_count": 20,
   "id": "d6fa6017",
   "metadata": {},
   "outputs": [
    {
     "data": {
      "text/html": [
       "<div>\n",
       "<style scoped>\n",
       "    .dataframe tbody tr th:only-of-type {\n",
       "        vertical-align: middle;\n",
       "    }\n",
       "\n",
       "    .dataframe tbody tr th {\n",
       "        vertical-align: top;\n",
       "    }\n",
       "\n",
       "    .dataframe thead th {\n",
       "        text-align: right;\n",
       "    }\n",
       "</style>\n",
       "<table border=\"1\" class=\"dataframe\">\n",
       "  <thead>\n",
       "    <tr style=\"text-align: right;\">\n",
       "      <th></th>\n",
       "      <th>name</th>\n",
       "      <th>test.mean</th>\n",
       "      <th>test.std</th>\n",
       "      <th>train.mean</th>\n",
       "      <th>train.std</th>\n",
       "      <th>normalized</th>\n",
       "    </tr>\n",
       "  </thead>\n",
       "  <tbody>\n",
       "    <tr>\n",
       "      <th>0</th>\n",
       "      <td>Adamic Adar</td>\n",
       "      <td>0.500000</td>\n",
       "      <td>0.000000</td>\n",
       "      <td>0.500000</td>\n",
       "      <td>0.000000</td>\n",
       "      <td>False</td>\n",
       "    </tr>\n",
       "    <tr>\n",
       "      <th>1</th>\n",
       "      <td>Adamic Adar</td>\n",
       "      <td>0.464578</td>\n",
       "      <td>0.006581</td>\n",
       "      <td>0.470222</td>\n",
       "      <td>0.002838</td>\n",
       "      <td>True</td>\n",
       "    </tr>\n",
       "    <tr>\n",
       "      <th>2</th>\n",
       "      <td>Jaccard</td>\n",
       "      <td>0.500000</td>\n",
       "      <td>0.000000</td>\n",
       "      <td>0.500000</td>\n",
       "      <td>0.000000</td>\n",
       "      <td>False</td>\n",
       "    </tr>\n",
       "    <tr>\n",
       "      <th>3</th>\n",
       "      <td>Jaccard</td>\n",
       "      <td>0.499319</td>\n",
       "      <td>0.000718</td>\n",
       "      <td>0.499416</td>\n",
       "      <td>0.000308</td>\n",
       "      <td>True</td>\n",
       "    </tr>\n",
       "  </tbody>\n",
       "</table>\n",
       "</div>"
      ],
      "text/plain": [
       "          name  test.mean  test.std  train.mean  train.std normalized\n",
       "0  Adamic Adar   0.500000  0.000000    0.500000   0.000000      False\n",
       "1  Adamic Adar   0.464578  0.006581    0.470222   0.002838       True\n",
       "2      Jaccard   0.500000  0.000000    0.500000   0.000000      False\n",
       "3      Jaccard   0.499319  0.000718    0.499416   0.000308       True"
      ]
     },
     "execution_count": 20,
     "metadata": {},
     "output_type": "execute_result"
    }
   ],
   "source": [
    "df = pd.DataFrame.from_dict(results_list)\n",
    "#df.set_index(['name']);\n",
    "df.head(20)"
   ]
  },
  {
   "cell_type": "code",
   "execution_count": null,
   "id": "59514825",
   "metadata": {},
   "outputs": [],
   "source": []
  }
 ],
 "metadata": {
  "kernelspec": {
   "display_name": "Python 3 (ipykernel)",
   "language": "python",
   "name": "python3"
  },
  "language_info": {
   "codemirror_mode": {
    "name": "ipython",
    "version": 3
   },
   "file_extension": ".py",
   "mimetype": "text/x-python",
   "name": "python",
   "nbconvert_exporter": "python",
   "pygments_lexer": "ipython3",
   "version": "3.10.6"
  }
 },
 "nbformat": 4,
 "nbformat_minor": 5
}
